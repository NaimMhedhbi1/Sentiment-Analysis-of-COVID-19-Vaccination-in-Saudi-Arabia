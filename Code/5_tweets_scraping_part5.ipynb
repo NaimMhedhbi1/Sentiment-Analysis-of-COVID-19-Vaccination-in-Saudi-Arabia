{
  "nbformat": 4,
  "nbformat_minor": 0,
  "metadata": {
    "colab": {
      "name": "5_tweets_scraping_part5.ipynb",
      "provenance": [],
      "authorship_tag": "ABX9TyMPaoJQutDvolmgwKEtppU+"
    },
    "kernelspec": {
      "name": "python3",
      "display_name": "Python 3"
    },
    "language_info": {
      "name": "python"
    }
  },
  "cells": [
    {
      "cell_type": "code",
      "metadata": {
        "id": "EKOt3SrbeB95"
      },
      "source": [
        "!pip3 install twint"
      ],
      "execution_count": null,
      "outputs": []
    },
    {
      "cell_type": "code",
      "metadata": {
        "id": "njmVweeLeDGZ"
      },
      "source": [
        "!pip3 uninstall twint"
      ],
      "execution_count": null,
      "outputs": []
    },
    {
      "cell_type": "code",
      "metadata": {
        "id": "VsWfNlOceEt7"
      },
      "source": [
        "!pip3 install --upgrade git+https://github.com/twintproject/twint.git@origin/master#egg=twint"
      ],
      "execution_count": null,
      "outputs": []
    },
    {
      "cell_type": "code",
      "metadata": {
        "id": "_cxhlr-reHNL",
        "colab": {
          "base_uri": "https://localhost:8080/"
        },
        "outputId": "1513baca-9f7f-43ce-8604-fccdd7ec2566"
      },
      "source": [
        "pip install nest-asyncio"
      ],
      "execution_count": null,
      "outputs": [
        {
          "output_type": "stream",
          "text": [
            "Requirement already satisfied: nest-asyncio in /usr/local/lib/python3.7/dist-packages (1.5.1)\n"
          ],
          "name": "stdout"
        }
      ]
    },
    {
      "cell_type": "code",
      "metadata": {
        "id": "tx9U7HoUeHul"
      },
      "source": [
        "import twint\n",
        "import nest_asyncio\n",
        "nest_asyncio.apply()\n",
        "import pandas as pd"
      ],
      "execution_count": null,
      "outputs": []
    },
    {
      "cell_type": "code",
      "metadata": {
        "colab": {
          "base_uri": "https://localhost:8080/"
        },
        "id": "PSARGc8oKfX9",
        "outputId": "c0063ce1-74ac-4597-a797-250f236686f3"
      },
      "source": [
        "#pfizer\n",
        "c=twint.Config()\n",
        "c.Search=\"لقاح\"\n",
        "c.Lang=\"ar\"\n",
        "c.Since=\"2020-12-10\"\n",
        "c.Until=\"2020-12-24\"\n",
        "c.Geo=\"23.885942,45.079162,400km\" \n",
        "c.Pandas= True \n",
        "c.Store_csv = True\n",
        "c.Count=True\n",
        "c.Hide_output = True\n",
        "c.Output = \"Ndates1.csv\"\n",
        "twint.run.Search(c)"
      ],
      "execution_count": null,
      "outputs": [
        {
          "output_type": "stream",
          "text": [
            "[!] No more data! Scraping will stop now.\n",
            "found 0 deleted tweets in this search.\n",
            "[+] Finished: Successfully collected 785 Tweets.\n"
          ],
          "name": "stdout"
        }
      ]
    },
    {
      "cell_type": "code",
      "metadata": {
        "colab": {
          "base_uri": "https://localhost:8080/"
        },
        "id": "Qf1KHSg6hvV9",
        "outputId": "a608a31c-b80b-4813-f6b6-115fac256725"
      },
      "source": [
        "#pfizer\n",
        "c=twint.Config()\n",
        "c.Search=\"اللقاح\"\n",
        "c.Lang=\"ar\"\n",
        "c.Since=\"2020-12-10\"\n",
        "c.Until=\"2020-12-24\"\n",
        "c.Geo=\"23.885942,45.079162,400km\" \n",
        "c.Pandas= True \n",
        "c.Store_csv = True\n",
        "c.Count=True\n",
        "c.Hide_output = True\n",
        "c.Output = \"Ndates2.csv\"\n",
        "twint.run.Search(c)"
      ],
      "execution_count": null,
      "outputs": [
        {
          "output_type": "stream",
          "text": [
            "[!] No more data! Scraping will stop now.\n",
            "found 0 deleted tweets in this search.\n",
            "[+] Finished: Successfully collected 857 Tweets.\n"
          ],
          "name": "stdout"
        }
      ]
    },
    {
      "cell_type": "code",
      "metadata": {
        "colab": {
          "base_uri": "https://localhost:8080/"
        },
        "id": "ZGoKGhyOiUqI",
        "outputId": "e7acc259-eed5-4b5c-b450-b0834dfde5b3"
      },
      "source": [
        "#pfizer\n",
        "c=twint.Config()\n",
        "c.Search=\"تطعيم\"\n",
        "c.Lang=\"ar\"\n",
        "c.Since=\"2020-12-10\"\n",
        "c.Until=\"2020-12-24\"\n",
        "c.Geo=\"23.885942,45.079162,400km\" \n",
        "c.Pandas= True \n",
        "c.Store_csv = True\n",
        "c.Count=True\n",
        "c.Hide_output = True\n",
        "c.Output = \"Ndates3.csv\"\n",
        "twint.run.Search(c)"
      ],
      "execution_count": null,
      "outputs": [
        {
          "output_type": "stream",
          "text": [
            "[!] No more data! Scraping will stop now.\n",
            "found 0 deleted tweets in this search.\n",
            "[+] Finished: Successfully collected 83 Tweets.\n"
          ],
          "name": "stdout"
        }
      ]
    },
    {
      "cell_type": "code",
      "metadata": {
        "colab": {
          "base_uri": "https://localhost:8080/"
        },
        "id": "bxOztQKQioeO",
        "outputId": "f08ea81c-f237-4c1f-af97-4dacd67cdc26"
      },
      "source": [
        "#pfizer\n",
        "c=twint.Config()\n",
        "c.Search=\"فايزر\"\n",
        "c.Lang=\"ar\"\n",
        "c.Since=\"2020-12-10\"\n",
        "c.Until=\"2020-12-24\"\n",
        "c.Geo=\"23.885942,45.079162,400km\" \n",
        "c.Pandas= True \n",
        "c.Store_csv = True\n",
        "c.Count=True\n",
        "c.Hide_output = True\n",
        "c.Output = \"Ndates4.csv\"\n",
        "twint.run.Search(c)"
      ],
      "execution_count": null,
      "outputs": [
        {
          "output_type": "stream",
          "text": [
            "[!] No more data! Scraping will stop now.\n",
            "found 0 deleted tweets in this search.\n",
            "[+] Finished: Successfully collected 145 Tweets.\n"
          ],
          "name": "stdout"
        }
      ]
    },
    {
      "cell_type": "code",
      "metadata": {
        "colab": {
          "base_uri": "https://localhost:8080/"
        },
        "id": "-RWDaYHxqNrO",
        "outputId": "cb573bee-ffa9-47a6-dbb7-dee9ffea65d3"
      },
      "source": [
        "#pfizer\n",
        "c=twint.Config()\n",
        "c.Search=\"جرعة\"\n",
        "c.Lang=\"ar\"\n",
        "c.Since=\"2020-12-10\"\n",
        "c.Until=\"2020-12-24\"\n",
        "c.Geo=\"23.885942,45.079162,400km\" \n",
        "c.Pandas= True \n",
        "c.Store_csv = True\n",
        "c.Count=True\n",
        "c.Hide_output = True\n",
        "c.Output = \"Ndates5.csv\"\n",
        "twint.run.Search(c)"
      ],
      "execution_count": null,
      "outputs": [
        {
          "output_type": "stream",
          "text": [
            "[!] No more data! Scraping will stop now.\n",
            "found 0 deleted tweets in this search.\n",
            "[+] Finished: Successfully collected 80 Tweets.\n"
          ],
          "name": "stdout"
        }
      ]
    }
  ]
}