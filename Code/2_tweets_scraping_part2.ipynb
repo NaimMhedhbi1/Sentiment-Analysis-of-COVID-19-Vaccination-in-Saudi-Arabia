{
  "nbformat": 4,
  "nbformat_minor": 0,
  "metadata": {
    "colab": {
      "name": "2-tweets_scraping_part2.ipynb",
      "provenance": [],
      "authorship_tag": "ABX9TyNre2JLpUB72yBi1xglvk1o"
    },
    "kernelspec": {
      "name": "python3",
      "display_name": "Python 3"
    },
    "language_info": {
      "name": "python"
    }
  },
  "cells": [
    {
      "cell_type": "markdown",
      "metadata": {
        "id": "m2Ae2D2TsZNP"
      },
      "source": [
        "\n",
        "#***1-Install packages and import libraries***"
      ]
    },
    {
      "cell_type": "code",
      "metadata": {
        "id": "88f26GHs39F8"
      },
      "source": [
        "!pip3 install twint"
      ],
      "execution_count": null,
      "outputs": []
    },
    {
      "cell_type": "code",
      "metadata": {
        "id": "F7QPM5jvLWmb"
      },
      "source": [
        "!pip3 uninstall twint"
      ],
      "execution_count": null,
      "outputs": []
    },
    {
      "cell_type": "code",
      "metadata": {
        "id": "UXe3e76sLPq1"
      },
      "source": [
        "!pip3 install --upgrade git+https://github.com/twintproject/twint.git@origin/master#egg=twint"
      ],
      "execution_count": null,
      "outputs": []
    },
    {
      "cell_type": "code",
      "metadata": {
        "id": "GG0IRbpM4t4r"
      },
      "source": [
        "pip install nest-asyncio"
      ],
      "execution_count": null,
      "outputs": []
    },
    {
      "cell_type": "code",
      "metadata": {
        "id": "FBkwaTcZ4yXt"
      },
      "source": [
        "import twint\n",
        "import nest_asyncio\n",
        "nest_asyncio.apply()\n",
        "#__import__('IPython').embed()\n",
        "import pandas as pd"
      ],
      "execution_count": null,
      "outputs": []
    },
    {
      "cell_type": "code",
      "metadata": {
        "id": "U9Vnu3esC21Y"
      },
      "source": [
        "c=twint.Config()"
      ],
      "execution_count": null,
      "outputs": []
    },
    {
      "cell_type": "markdown",
      "metadata": {
        "id": "EKezqrtas31a"
      },
      "source": [
        "----\n",
        "#***2-Collect more data and test some options***"
      ]
    },
    {
      "cell_type": "markdown",
      "metadata": {
        "id": "a2Z3vLH2NMJR"
      },
      "source": [
        "# الدراسة\n",
        "*Collect with the new dates to complete the 14 days from the event*"
      ]
    },
    {
      "cell_type": "code",
      "metadata": {
        "id": "iw2wvQ8HDFRG"
      },
      "source": [
        "c.Search=\"حضوريا , اللقاح\"\n",
        "c.Lang=\"ar\"\n",
        "#c.Since=\"2021-05-07\"\n",
        "#c.Until=\"2021-05-13\"\n",
        "c.Since=\"2021-05-13\"\n",
        "c.Until=\"2021-05-24\"\n",
        "c.Pandas= True \n",
        "c.Store_csv = True\n",
        "c.Count=True\n",
        "c.Hide_output = True\n",
        "c.Output = \"in-class1.csv\"\n",
        "twint.run.Search(c)"
      ],
      "execution_count": null,
      "outputs": []
    },
    {
      "cell_type": "code",
      "metadata": {
        "id": "jrlV3zP7D7EX"
      },
      "source": [
        "c.Search=\" حضوري, تطعيم\"\n",
        "c.Lang=\"ar\"\n",
        "#c.Since=\"2021-05-07\"\n",
        "#c.Until=\"2021-05-13\"\n",
        "c.Since=\"2021-05-13\"\n",
        "c.Until=\"2021-05-24\"\n",
        "c.Pandas= True \n",
        "c.Count=True\n",
        "c.Hide_output = True\n",
        "c.Store_csv = True\n",
        "c.Output = \"in-class2.csv\"\n",
        "twint.run.Search(c)"
      ],
      "execution_count": null,
      "outputs": []
    },
    {
      "cell_type": "code",
      "metadata": {
        "id": "OUKsGDbTL67V"
      },
      "source": [
        "c.Search=\"لقاح , حضورياً \"\n",
        "c.Lang=\"ar\"\n",
        "#c.Since=\"2021-05-07\"\n",
        "#c.Until=\"2021-05-13\"\n",
        "c.Since=\"2021-05-13\"\n",
        "c.Until=\"2021-05-24\"\n",
        "c.Pandas= True \n",
        "c.Store_csv = True\n",
        "c.Count=True\n",
        "c.Hide_output = True\n",
        "c.Output = \"in-class3.csv\"\n",
        "twint.run.Search(c)"
      ],
      "execution_count": null,
      "outputs": []
    },
    {
      "cell_type": "code",
      "metadata": {
        "id": "mKUz7h_aMURU"
      },
      "source": [
        "c.Search=\"حضوريا,تطعيم\"\n",
        "c.Lang=\"ar\"\n",
        "#c.Since=\"2021-05-07\"\n",
        "#c.Until=\"2021-05-13\"\n",
        "c.Since=\"2021-05-13\"\n",
        "c.Until=\"2021-05-24\"\n",
        "c.Pandas= True \n",
        "c.Store_csv = True\n",
        "c.Count=True\n",
        "c.Hide_output = True\n",
        "c.Output = \"in-class4.csv\"\n",
        "twint.run.Search(c)"
      ],
      "execution_count": null,
      "outputs": []
    },
    {
      "cell_type": "code",
      "metadata": {
        "id": "QLGEvn9JMfci"
      },
      "source": [
        "c.Search=\"لقاح,الدراسة\"\n",
        "c.Lang=\"ar\"\n",
        "#c.Since=\"2021-05-07\"\n",
        "#c.Until=\"2021-05-13\"\n",
        "c.Since=\"2021-05-13\"\n",
        "c.Until=\"2021-05-24\"\n",
        "c.Pandas= True \n",
        "c.Store_csv = True\n",
        "c.Count=True\n",
        "c.Hide_output = True\n",
        "c.Output = \"in-class5.csv\"\n",
        "twint.run.Search(c)"
      ],
      "execution_count": null,
      "outputs": []
    },
    {
      "cell_type": "code",
      "metadata": {
        "id": "o80j7C47Mp_t"
      },
      "source": [
        "c.Search=\" لقاح، كورونا، دراسة\"\n",
        "c.Lang=\"ar\"\n",
        "#c.Since=\"2021-05-07\"\n",
        "#c.Until=\"2021-05-13\"\n",
        "c.Since=\"2021-05-13\"\n",
        "c.Until=\"2021-05-24\"\n",
        "c.Pandas= True \n",
        "c.Store_csv = True\n",
        "c.Count=True\n",
        "c.Hide_output = True\n",
        "c.Output = \"in-class6.csv\"\n",
        "twint.run.Search(c)"
      ],
      "execution_count": null,
      "outputs": []
    },
    {
      "cell_type": "code",
      "metadata": {
        "id": "l2FCw8KeMypm"
      },
      "source": [
        "c.Search=\"لقاح ، عودة ، الطلاب\"\n",
        "c.Lang=\"ar\"\n",
        "#c.Since=\"2021-05-07\"\n",
        "#c.Until=\"2021-05-13\"\n",
        "c.Since=\"2021-05-13\"\n",
        "c.Until=\"2021-05-24\"\n",
        "c.Pandas= True \n",
        "c.Store_csv = True\n",
        "c.Count=True\n",
        "c.Hide_output = True\n",
        "c.Output = \"in-class7.csv\"\n",
        "twint.run.Search(c)"
      ],
      "execution_count": null,
      "outputs": []
    },
    {
      "cell_type": "markdown",
      "metadata": {
        "id": "gG2FZVh1Fm3h"
      },
      "source": [
        "# عام"
      ]
    },
    {
      "cell_type": "code",
      "metadata": {
        "id": "gmxcpHkHuLZ_"
      },
      "source": [
        "c.Search=\"لقاح\"\n",
        "c.Lang=\"ar\"\n",
        "#c.Since=\"2021-05-07\"\n",
        "#c.Until=\"2021-05-13\"\n",
        "c.Since=\"2021-05-10\"\n",
        "c.Until=\"2021-05-11\"\n",
        "c.Pandas= True \n",
        "c.Store_csv = True\n",
        "c.Count=True\n",
        "c.Hide_output = True\n",
        "c.Output = \"in-class_forgotten10.csv\"\n",
        "twint.run.Search(c)"
      ],
      "execution_count": null,
      "outputs": []
    },
    {
      "cell_type": "code",
      "metadata": {
        "id": "DzkaBkFlNVOi"
      },
      "source": [
        "c.Search=\"لقاح\"\n",
        "c.Lang=\"ar\"\n",
        "#c.Since=\"2021-05-07\"\n",
        "#c.Until=\"2021-05-13\"\n",
        "c.Since=\"2021-05-11\"\n",
        "c.Until=\"2021-05-24\"\n",
        "c.Pandas= True \n",
        "c.Store_csv = True\n",
        "c.Count=True\n",
        "c.Hide_output = True\n",
        "c.Output = \"in-class8.csv\"\n",
        "twint.run.Search(c)"
      ],
      "execution_count": null,
      "outputs": []
    },
    {
      "cell_type": "code",
      "metadata": {
        "id": "DIRb3fDqRvKz"
      },
      "source": [
        "c.Search=\"لقاح\"\n",
        "c.Lang=\"ar\"\n",
        "#c.Since=\"2021-05-07\"\n",
        "#c.Until=\"2021-05-13\"\n",
        "c.Since=\"2021-05-24\"\n",
        "c.Until=\"2021-06-1\"\n",
        "c.Pandas= True \n",
        "c.Store_csv = True\n",
        "c.Count=True\n",
        "c.Hide_output = True\n",
        "c.Output = \"in-class9.csv\"\n",
        "twint.run.Search(c)"
      ],
      "execution_count": null,
      "outputs": []
    },
    {
      "cell_type": "code",
      "metadata": {
        "id": "K43tomy2zGeg"
      },
      "source": [
        "c.Search=\"تطعيم\"\n",
        "c.Lang=\"ar\"\n",
        "#c.Since=\"2021-05-07\"\n",
        "#c.Until=\"2021-05-13\"\n",
        "c.Since=\"2021-05-10\"\n",
        "c.Until=\"2021-06-1\"\n",
        "c.Pandas= True \n",
        "c.Store_csv = True\n",
        "c.Count=True\n",
        "c.Hide_output = True\n",
        "c.Output = \"in-class10.csv\"\n",
        "twint.run.Search(c)"
      ],
      "execution_count": null,
      "outputs": []
    },
    {
      "cell_type": "markdown",
      "metadata": {
        "id": "aqJq5e318wwv"
      },
      "source": [
        "# Trying with Geo location"
      ]
    },
    {
      "cell_type": "code",
      "metadata": {
        "id": "zmiBiyxt6bLe"
      },
      "source": [
        "c.Search=\"لقاح\"\n",
        "c.Lang=\"ar\"\n",
        "#c.Since=\"2021-05-07\"\n",
        "#c.Until=\"2021-05-13\"\n",
        "c.Since=\"2021-05-10\"\n",
        "c.Until=\"2021-06-1\"\n",
        "c.Geo=\"23.885942,45.079162,400km\"\n",
        "#\"23.571861501954036, 45.61214440937646\" Saudi Arabia - Zero result\n",
        "#\"24.896799257595838, 46.51669440192322,100km\" #Riyadh - few results\n",
        "c.Pandas= True \n",
        "c.Store_csv = True\n",
        "c.Count=True\n",
        "c.Hide_output = True\n",
        "c.Output = \"g1-longlat.csv\"\n",
        "twint.run.Search(c)\n"
      ],
      "execution_count": null,
      "outputs": []
    },
    {
      "cell_type": "code",
      "metadata": {
        "id": "f3CL-t17kZ-Q"
      },
      "source": [
        "c.Search=\"تطعيم\"\n",
        "c.Lang=\"ar\"\n",
        "#c.Since=\"2021-05-07\"\n",
        "#c.Until=\"2021-05-13\"\n",
        "c.Since=\"2021-05-10\"\n",
        "c.Until=\"2021-06-1\"\n",
        "c.Geo=\"23.571861501954036, 45.61214440937646,4000km\" #maximum kilometers more than this it shows less tweets!\n",
        "#\"23.571861501954036, 45.61214440937646\" Saudi Arabia - Zero result without radius \n",
        "#\"24.896799257595838, 46.51669440192322,100km\" #Riyadh - few results!\n",
        "c.Pandas= True \n",
        "c.Store_csv = True\n",
        "c.Count=True\n",
        "c.Hide_output = True\n",
        "c.Output = \"g2-longlat.csv\"\n",
        "twint.run.Search(c)"
      ],
      "execution_count": null,
      "outputs": []
    }
  ]
}
