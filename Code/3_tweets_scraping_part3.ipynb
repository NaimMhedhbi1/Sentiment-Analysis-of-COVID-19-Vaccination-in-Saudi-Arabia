{
  "nbformat": 4,
  "nbformat_minor": 0,
  "metadata": {
    "colab": {
      "name": "3-tweets_scraping_part3.ipynb",
      "provenance": [],
      "authorship_tag": "ABX9TyNmZgFzcw39lgAVgiKl6954"
    },
    "kernelspec": {
      "name": "python3",
      "display_name": "Python 3"
    },
    "language_info": {
      "name": "python"
    }
  },
  "cells": [
    {
      "cell_type": "markdown",
      "metadata": {
        "id": "Ex5shZb9kMYe"
      },
      "source": [
        "#تثبيت المكتبات"
      ]
    },
    {
      "cell_type": "code",
      "metadata": {
        "id": "EKOt3SrbeB95"
      },
      "source": [
        "!pip3 install twint"
      ],
      "execution_count": null,
      "outputs": []
    },
    {
      "cell_type": "code",
      "metadata": {
        "id": "njmVweeLeDGZ"
      },
      "source": [
        "!pip3 uninstall twint"
      ],
      "execution_count": null,
      "outputs": []
    },
    {
      "cell_type": "code",
      "metadata": {
        "id": "VsWfNlOceEt7"
      },
      "source": [
        "!pip3 install --upgrade git+https://github.com/twintproject/twint.git@origin/master#egg=twint"
      ],
      "execution_count": null,
      "outputs": []
    },
    {
      "cell_type": "code",
      "metadata": {
        "id": "_cxhlr-reHNL",
        "colab": {
          "base_uri": "https://localhost:8080/"
        },
        "outputId": "ba877ba2-90ea-4b0d-b743-7f90bdc8b331"
      },
      "source": [
        "pip install nest-asyncio"
      ],
      "execution_count": null,
      "outputs": [
        {
          "output_type": "stream",
          "text": [
            "Requirement already satisfied: nest-asyncio in /usr/local/lib/python3.7/dist-packages (1.5.1)\n"
          ],
          "name": "stdout"
        }
      ]
    },
    {
      "cell_type": "code",
      "metadata": {
        "id": "tx9U7HoUeHul"
      },
      "source": [
        "import twint\n",
        "import nest_asyncio\n",
        "nest_asyncio.apply()\n",
        "import pandas as pd\n"
      ],
      "execution_count": null,
      "outputs": []
    },
    {
      "cell_type": "markdown",
      "metadata": {
        "id": "UncZ2461H3vE"
      },
      "source": [
        "* Saudi Arabia/Coordinates (lat,long,radius)- **23.8859° N, 45.0792° E**\n",
        "* \"23.885942,45.079162,400km\" \n",
        "* 400 km from the center of Saudi Arabia for each search"
      ]
    },
    {
      "cell_type": "markdown",
      "metadata": {
        "id": "iNU7jtsCjFfn"
      },
      "source": [
        "#الهندي"
      ]
    },
    {
      "cell_type": "code",
      "metadata": {
        "id": "QsFQTboGeR2m"
      },
      "source": [
        "#get the file\n",
        "c=twint.Config()\n",
        "c.Search=\"المتحور,الهندي,لقاح\"\n",
        "c.Custom_query=\"المتحور,الهندي,لقاح\"\n",
        "c.Lang=\"ar\"\n",
        "c.Since=\"2021-03-25\"\n",
        "c.Until=\"2021-04-08\"\n",
        "c.Geo=\"23.885942,45.079162,400km\" \n",
        "c.Pandas= True \n",
        "c.Store_csv = True\n",
        "c.Count=True\n",
        "c.Hide_output = True\n",
        "c.Output = \"trans-1.csv\"\n",
        "twint.run.Search(c)\n"
      ],
      "execution_count": null,
      "outputs": []
    },
    {
      "cell_type": "code",
      "metadata": {
        "id": "5rWTm78AhHjz"
      },
      "source": [
        "#get the file\n",
        "c=twint.Config()\n",
        "c.Search=\"المتحور,الهندي,تطعيم\"\n",
        "c.Custom_query=\"المتحور,الهندي,تطعيم\"\n",
        "c.Lang=\"ar\"\n",
        "c.Since=\"2021-03-25\"\n",
        "c.Until=\"2021-04-08\"\n",
        "c.Geo=\"23.885942,45.079162,400km\" \n",
        "c.Pandas= True \n",
        "c.Store_csv = True\n",
        "c.Count=True\n",
        "c.Hide_output = True\n",
        "c.Output = \"trans-1v2.csv\"\n",
        "twint.run.Search(c)"
      ],
      "execution_count": null,
      "outputs": []
    },
    {
      "cell_type": "code",
      "metadata": {
        "id": "e9ypMOxHhqj_"
      },
      "source": [
        "#get the file\n",
        "c=twint.Config()\n",
        "c.Search=\"المتحور,الهندي,جرعة\"\n",
        "c.Custom_query=\"المتحور,الهندي,جرعة\"\n",
        "c.Lang=\"ar\"\n",
        "c.Since=\"2021-03-25\"\n",
        "c.Until=\"2021-04-08\"\n",
        "c.Geo=\"23.885942,45.079162,400km\" \n",
        "c.Pandas= True \n",
        "c.Store_csv = True\n",
        "c.Count=True\n",
        "c.Hide_output = True\n",
        "c.Output = \"trans-1v3.csv\"\n",
        "twint.run.Search(c)"
      ],
      "execution_count": null,
      "outputs": []
    },
    {
      "cell_type": "code",
      "metadata": {
        "id": "U127Dn4XjI6-"
      },
      "source": [
        "c=twint.Config()\n",
        "c.Search=\"المتحور,لقاح\"\n",
        "c.Custom_query=\"المتحور,لقاح\"\n",
        "c.Lang=\"ar\"\n",
        "c.Since=\"2021-03-25\"\n",
        "c.Until=\"2021-04-08\"\n",
        "c.Geo=\"23.885942,45.079162,400km\" \n",
        "c.Pandas= True \n",
        "c.Store_csv = True\n",
        "c.Count=True\n",
        "c.Hide_output = True\n",
        "c.Output = \"trans-1v4.csv\"\n",
        "twint.run.Search(c)"
      ],
      "execution_count": null,
      "outputs": []
    },
    {
      "cell_type": "code",
      "metadata": {
        "id": "laheK4_X7WIw"
      },
      "source": [
        "c=twint.Config()\n",
        "c.Search=\"لقاح\"\n",
        "c.Lang=\"ar\"\n",
        "c.Since=\"2021-03-25\"\n",
        "c.Until=\"2021-04-08\"\n",
        "c.Geo=\"23.885942,45.079162,400km\" \n",
        "c.Pandas= True \n",
        "c.Store_csv = True\n",
        "c.Count=True\n",
        "c.Hide_output = True\n",
        "c.Output = \"trans-1v5.csv\"\n",
        "twint.run.Search(c)"
      ],
      "execution_count": null,
      "outputs": []
    },
    {
      "cell_type": "markdown",
      "metadata": {
        "id": "fi2tWdw2jAZX"
      },
      "source": [
        "#البريطاني "
      ]
    },
    {
      "cell_type": "code",
      "metadata": {
        "id": "Ygx54nO6fUkJ"
      },
      "source": [
        "#get the file\n",
        "c=twint.Config()\n",
        "c.Search=\"المتحور,البريطاني,لقاح\"\n",
        "c.Custom_query=\"المتحور,البريطاني,لقاح\"\n",
        "c.Lang=\"ar\"\n",
        "c.Since=\"2020-12-25\"\n",
        "c.Until=\"2021-01-08\"\n",
        "c.Geo=\"23.885942,45.079162,400km\" \n",
        "c.Pandas= True \n",
        "c.Store_csv = True\n",
        "c.Count=True\n",
        "c.Hide_output = True\n",
        "c.Output = \"trans-2.csv\"\n",
        "twint.run.Search(c)"
      ],
      "execution_count": null,
      "outputs": []
    },
    {
      "cell_type": "code",
      "metadata": {
        "id": "H-y1IRxKhS8b"
      },
      "source": [
        "#get the file\n",
        "c=twint.Config()\n",
        "c.Search=\"المتحور,البريطاني,تطعيم\"\n",
        "c.Custom_query=\"المتحور,البريطاني,تطعيم\"\n",
        "c.Lang=\"ar\"\n",
        "c.Since=\"2020-12-25\"\n",
        "c.Until=\"2021-01-08\"\n",
        "c.Geo=\"23.885942,45.079162,400km\" \n",
        "c.Pandas= True \n",
        "c.Store_csv = True\n",
        "c.Count=True\n",
        "c.Hide_output = True\n",
        "c.Output = \"trans-2v2.csv\"\n",
        "twint.run.Search(c)"
      ],
      "execution_count": null,
      "outputs": []
    },
    {
      "cell_type": "code",
      "metadata": {
        "id": "KE3o8qrpJQUM"
      },
      "source": [
        "#get the file\n",
        "c=twint.Config()\n",
        "c.Search=\"المتحور,البريطاني,جرعة\"\n",
        "c.Custom_query=\"المتحور,البريطاني,جرعة\"\n",
        "c.Lang=\"ar\"\n",
        "c.Since=\"2020-12-25\"\n",
        "c.Until=\"2021-01-08\"\n",
        "c.Geo=\"23.885942,45.079162,400km\" \n",
        "c.Pandas= True \n",
        "c.Store_csv = True\n",
        "c.Count=True\n",
        "c.Hide_output = True\n",
        "c.Output = \"trans-2v7.csv\"\n",
        "twint.run.Search(c)"
      ],
      "execution_count": null,
      "outputs": []
    },
    {
      "cell_type": "code",
      "metadata": {
        "id": "DNORwuDOh5qz"
      },
      "source": [
        "c=twint.Config()\n",
        "c.Search=\"البريطاني,لقاح,جرعة\"\n",
        "c.Custom_query=\"البريطاني,لقاح,جرعة\"\n",
        "c.Lang=\"ar\"\n",
        "c.Since=\"2020-12-25\"\n",
        "c.Until=\"2021-01-08\"\n",
        "c.Geo=\"23.885942,45.079162,400km\" \n",
        "c.Pandas= True \n",
        "c.Store_csv = True\n",
        "c.Count=True\n",
        "c.Hide_output = True\n",
        "c.Output = \"trans-2v3.csv\"\n",
        "twint.run.Search(c)"
      ],
      "execution_count": null,
      "outputs": []
    },
    {
      "cell_type": "code",
      "metadata": {
        "id": "06Qv46pTjVuF"
      },
      "source": [
        "#get the file\n",
        "c=twint.Config()\n",
        "c.Search=\"المتحورات,لقاح\"\n",
        "c.Custom_query=\"المتحورات,لقاح\"\n",
        "c.Lang=\"ar\"\n",
        "c.Since=\"2020-12-25\"\n",
        "c.Until=\"2021-01-08\"\n",
        "c.Geo=\"23.885942,45.079162,400km\" \n",
        "c.Pandas= True \n",
        "c.Store_csv = True\n",
        "c.Count=True\n",
        "#c.Hide_output = True\n",
        "c.Output = \"trans-2v4.csv\"\n",
        "twint.run.Search(c)"
      ],
      "execution_count": null,
      "outputs": []
    },
    {
      "cell_type": "code",
      "metadata": {
        "id": "6FWavvuAju9l"
      },
      "source": [
        "#get the file\n",
        "c=twint.Config()\n",
        "c.Search=\"المتحورات,تطعيم\"\n",
        "c.Custom_query=\"المتحورات,تطعيم\"\n",
        "c.Lang=\"ar\"\n",
        "c.Since=\"2020-12-25\"\n",
        "c.Until=\"2021-01-08\"\n",
        "c.Geo=\"23.885942,45.079162,400km\" \n",
        "c.Pandas= True \n",
        "c.Store_csv = True\n",
        "c.Count=True\n",
        "#c.Hide_output = True\n",
        "c.Output = \"trans-2v5.csv\"\n",
        "twint.run.Search(c)"
      ],
      "execution_count": null,
      "outputs": []
    },
    {
      "cell_type": "code",
      "metadata": {
        "id": "p-UfoQO8j4Vi"
      },
      "source": [
        "c=twint.Config()\n",
        "c.Search=\"لقاح\"\n",
        "c.Lang=\"ar\"\n",
        "c.Since=\"2020-12-25\"\n",
        "c.Until=\"2021-01-08\"\n",
        "c.Geo=\"23.885942,45.079162,400km\" \n",
        "c.Pandas= True \n",
        "c.Store_csv = True\n",
        "c.Count=True\n",
        "c.Hide_output = True\n",
        "c.Output = \"trans-2v6.csv\"\n",
        "twint.run.Search(c)"
      ],
      "execution_count": null,
      "outputs": []
    },
    {
      "cell_type": "markdown",
      "metadata": {
        "id": "qr8tiwKXi8YC"
      },
      "source": [
        "#الفيتنامي"
      ]
    },
    {
      "cell_type": "code",
      "metadata": {
        "id": "OwTmfyTvgk3g"
      },
      "source": [
        "c=twint.Config()\n",
        "c.Search=\"المتحور,الفيتنامي,لقاح\"\n",
        "c.Custom_query=\"المتحور,الفيتنامي,لقاح\"\n",
        "c.Lang=\"ar\"\n",
        "c.Since=\"2021-06-04\"\n",
        "c.Until=\"2021-06-18\"\n",
        "c.Geo=\"23.885942,45.079162,400km\" \n",
        "c.Pandas= True \n",
        "c.Store_csv = True\n",
        "c.Count=True\n",
        "c.Hide_output = True\n",
        "c.Output = \"trans-3.csv\"\n",
        "twint.run.Search(c)"
      ],
      "execution_count": null,
      "outputs": []
    },
    {
      "cell_type": "code",
      "metadata": {
        "id": "k_QEmf99hcQ2"
      },
      "source": [
        "c=twint.Config()\n",
        "c.Search=\"المتحور,الفيتنامي,جرعة\"\n",
        "c.Custom_query=\"المتحور,الفيتنامي,جرعة\"\n",
        "c.Lang=\"ar\"\n",
        "c.Since=\"2021-06-04\"\n",
        "c.Until=\"2021-06-18\"\n",
        "c.Geo=\"23.885942,45.079162,400km\" \n",
        "c.Pandas= True \n",
        "c.Store_csv = True\n",
        "c.Count=True\n",
        "c.Hide_output = True\n",
        "c.Output = \"trans-3v2.csv\"\n",
        "twint.run.Search(c)"
      ],
      "execution_count": null,
      "outputs": []
    },
    {
      "cell_type": "code",
      "metadata": {
        "id": "v55eqY5xKBSw"
      },
      "source": [
        "c=twint.Config()\n",
        "c.Search=\"المتحور,الفيتنامي,تطعيم\"\n",
        "c.Custom_query=\"المتحور,الفيتنامي,تطعيم\"\n",
        "c.Lang=\"ar\"\n",
        "c.Since=\"2021-06-04\"\n",
        "c.Until=\"2021-06-18\"\n",
        "c.Geo=\"23.885942,45.079162,400km\" \n",
        "c.Pandas= True \n",
        "c.Store_csv = True\n",
        "c.Count=True\n",
        "c.Hide_output = True\n",
        "c.Output = \"trans-3v6.csv\"\n",
        "twint.run.Search(c)"
      ],
      "execution_count": null,
      "outputs": []
    },
    {
      "cell_type": "code",
      "metadata": {
        "id": "Q2t1EIESimAp"
      },
      "source": [
        "c=twint.Config()\n",
        "c.Search=\"المتحور,لقاح\"\n",
        "c.Custom_query=\"المتحور,لقاح\"\n",
        "c.Lang=\"ar\"\n",
        "c.Since=\"2021-06-04\"\n",
        "c.Until=\"2021-06-18\"\n",
        "c.Geo=\"23.885942,45.079162,400km\" \n",
        "c.Pandas= True \n",
        "c.Store_csv = True\n",
        "c.Count=True\n",
        "#c.Hide_output = True\n",
        "c.Output = \"trans-3v3.csv\"\n",
        "twint.run.Search(c)"
      ],
      "execution_count": null,
      "outputs": []
    },
    {
      "cell_type": "code",
      "metadata": {
        "id": "t_fVzHBuiDNo",
        "colab": {
          "base_uri": "https://localhost:8080/"
        },
        "outputId": "fca69e96-a499-4cd1-cbe6-d85010184908"
      },
      "source": [
        "c=twint.Config()\n",
        "c.Search=\"الفيتنامي,جرعة,المتحور\"\n",
        "c.Custom_query=\"الفيتنامي,جرعة,المتحور\"\n",
        "c.Lang=\"ar\"\n",
        "c.Since=\"2021-06-04\"\n",
        "c.Until=\"2021-06-18\"\n",
        "c.Geo=\"23.885942,45.079162,400km\" \n",
        "c.Pandas= True \n",
        "c.Store_csv = True\n",
        "c.Count=True\n",
        "#c.Hide_output = True\n",
        "c.Output = \"trans-3v4.csv\"\n",
        "twint.run.Search(c)"
      ],
      "execution_count": null,
      "outputs": [
        {
          "output_type": "stream",
          "text": [
            "[!] No more data! Scraping will stop now.\n",
            "found 0 deleted tweets in this search.\n",
            "[+] Finished: Successfully collected 0 Tweets.\n"
          ],
          "name": "stdout"
        }
      ]
    },
    {
      "cell_type": "code",
      "metadata": {
        "id": "lu4jZCmdrMQE",
        "colab": {
          "base_uri": "https://localhost:8080/"
        },
        "outputId": "f42cfbc9-673d-4825-ea34-7420df801e2b"
      },
      "source": [
        "c=twint.Config()\n",
        "c.Search=\"لقاح\"\n",
        "c.Lang=\"ar\"\n",
        "c.Since=\"2021-06-04\"\n",
        "c.Until=\"2021-06-18\"\n",
        "c.Geo=\"23.885942,45.079162,400km\" \n",
        "c.Pandas= True \n",
        "c.Store_csv = True\n",
        "c.Count=True\n",
        "c.Hide_output = True\n",
        "c.Output = \"trans-3v5.csv\"\n",
        "twint.run.Search(c)"
      ],
      "execution_count": null,
      "outputs": [
        {
          "output_type": "stream",
          "text": [
            "[!] No more data! Scraping will stop now.\n",
            "found 0 deleted tweets in this search.\n",
            "[+] Finished: Successfully collected 156 Tweets.\n"
          ],
          "name": "stdout"
        }
      ]
    },
    {
      "cell_type": "markdown",
      "metadata": {
        "id": "pKReklcCNDsH"
      },
      "source": [
        "# اللقاحات"
      ]
    },
    {
      "cell_type": "markdown",
      "metadata": {
        "id": "D9CcUUTSO5Ga"
      },
      "source": [
        "#فايزر"
      ]
    },
    {
      "cell_type": "code",
      "metadata": {
        "id": "CClVInweNH_l"
      },
      "source": [
        "\n",
        "c=twint.Config()\n",
        "c.Search=\"فايزر,لقاح\"\n",
        "c.Custom_query=\"فايزر,لقاح\"\n",
        "c.Lang=\"ar\"\n",
        "c.Since=\"2020-11-24\"\n",
        "c.Until=\"2020-12-08\"\n",
        "c.Geo=\"23.885942,45.079162,400km\" \n",
        "c.Pandas= True \n",
        "c.Store_csv = True\n",
        "c.Count=True\n",
        "c.Hide_output = True\n",
        "#c.Limit=3000\n",
        "c.Output = \"fiz-1.csv\" #the file does not come out!\n",
        "twint.run.Search(c)"
      ],
      "execution_count": null,
      "outputs": []
    },
    {
      "cell_type": "code",
      "metadata": {
        "colab": {
          "base_uri": "https://localhost:8080/"
        },
        "id": "NTpD-E9hOd0Z",
        "outputId": "cbbe842b-0391-42dc-f0b0-46368953bf28"
      },
      "source": [
        "\n",
        "c=twint.Config()\n",
        "c.Search=\"فايزر,تطعيم\"\n",
        "c.Custom_query=\"فايزر,تطعيم\"\n",
        "c.Lang=\"ar\"\n",
        "c.Since=\"2020-11-24\"\n",
        "c.Until=\"2020-12-08\"\n",
        "c.Geo=\"23.885942,45.079162,400km\" \n",
        "c.Pandas= True \n",
        "c.Store_csv = True\n",
        "c.Count=True\n",
        "c.Hide_output = True\n",
        "c.Output = \"fiz-2.csv\" #156 tweet!\n",
        "twint.run.Search(c)"
      ],
      "execution_count": null,
      "outputs": [
        {
          "output_type": "stream",
          "text": [
            "[!] No more data! Scraping will stop now.\n",
            "found 0 deleted tweets in this search.\n",
            "[+] Finished: Successfully collected 9054 Tweets.\n"
          ],
          "name": "stdout"
        }
      ]
    },
    {
      "cell_type": "code",
      "metadata": {
        "colab": {
          "base_uri": "https://localhost:8080/"
        },
        "id": "PKDPdovzOn53",
        "outputId": "e901a0b8-f8dd-4d37-d1e5-851619b79d68"
      },
      "source": [
        "\n",
        "c=twint.Config()\n",
        "c.Search=\"فايزر,جرعة\"\n",
        "c.Custom_query=\"فايزر,جرعة\"\n",
        "c.Lang=\"ar\"\n",
        "c.Since=\"2020-11-24\"\n",
        "c.Until=\"2020-12-08\"\n",
        "c.Geo=\"23.885942,45.079162,400km\" \n",
        "c.Pandas= True \n",
        "c.Store_csv = True\n",
        "c.Count=True\n",
        "c.Hide_output = True\n",
        "c.Output = \"fiz-3.csv\" #the file only contains 235 tweet! the number in the output is not corrct '19813 Tweets'!\n",
        "twint.run.Search(c)"
      ],
      "execution_count": null,
      "outputs": [
        {
          "output_type": "stream",
          "text": [
            "[!] No more data! Scraping will stop now.\n",
            "found 0 deleted tweets in this search.\n",
            "[+] Finished: Successfully collected 19813 Tweets.\n"
          ],
          "name": "stdout"
        }
      ]
    },
    {
      "cell_type": "code",
      "metadata": {
        "id": "kN8yIEnoOymX"
      },
      "source": [
        "c=twint.Config()\n",
        "c.Search=\"فايزر,كورونا\"\n",
        "c.Custom_query=\"فايزر,كورونا\"\n",
        "c.Lang=\"ar\"\n",
        "c.Since=\"2020-11-24\"\n",
        "c.Until=\"2020-12-08\"\n",
        "c.Geo=\"23.885942,45.079162,400km\" \n",
        "c.Pandas= True \n",
        "c.Store_csv = True\n",
        "c.Count=True\n",
        "c.Hide_output = True\n",
        "c.Output = \"fiz-4.csv\"\n",
        "twint.run.Search(c)"
      ],
      "execution_count": null,
      "outputs": []
    },
    {
      "cell_type": "markdown",
      "metadata": {
        "id": "3yDgH2X4PTF6"
      },
      "source": [
        "#استرازينيكا"
      ]
    },
    {
      "cell_type": "markdown",
      "metadata": {
        "id": "4Pa8MrGFSik8"
      },
      "source": [
        "I used custome query because it return zero result without it."
      ]
    },
    {
      "cell_type": "code",
      "metadata": {
        "colab": {
          "base_uri": "https://localhost:8080/"
        },
        "id": "tITIBEQAPX5K",
        "outputId": "e1c559be-52fd-436b-c4fc-9f1b9db195bc"
      },
      "source": [
        "\n",
        "c=twint.Config()\n",
        "c.Search=\"استرازينيكا,لقاح\"\n",
        "c.Custom_query=\"استرازينيكا,لقاح\"\n",
        "c.Lang=\"ar\"\n",
        "c.Since=\"2020-11-24\"\n",
        "c.Until=\"2020-12-08\"\n",
        "c.Geo=\"23.885942,45.079162,400km\" \n",
        "c.Pandas= True \n",
        "c.Store_csv = True\n",
        "c.Count=True\n",
        "c.Hide_output = True\n",
        "c.Output = \"ist-1.csv\"\n",
        "twint.run.Search(c)"
      ],
      "execution_count": null,
      "outputs": [
        {
          "output_type": "stream",
          "text": [
            "[!] No more data! Scraping will stop now.\n",
            "found 0 deleted tweets in this search.\n",
            "[+] Finished: Successfully collected 41307 Tweets.\n"
          ],
          "name": "stdout"
        }
      ]
    },
    {
      "cell_type": "code",
      "metadata": {
        "colab": {
          "base_uri": "https://localhost:8080/"
        },
        "id": "levddFe2QKpb",
        "outputId": "bb94b387-6373-4234-9a54-40724fa6f4c9"
      },
      "source": [
        "\n",
        "c=twint.Config()\n",
        "c.Search=\"استرازينيكا,تطعيم\"\n",
        "c.Custom_query=\"استرازينيكا,تطعيم\"\n",
        "c.Lang=\"ar\"\n",
        "c.Since=\"2020-11-24\"\n",
        "c.Until=\"2020-12-08\"\n",
        "c.Geo=\"23.885942,45.079162,400km\" \n",
        "c.Pandas= True \n",
        "c.Store_csv = True\n",
        "c.Count=True\n",
        "c.Hide_output = True\n",
        "c.Output = \"ist-2.csv\"\n",
        "twint.run.Search(c)"
      ],
      "execution_count": null,
      "outputs": [
        {
          "output_type": "stream",
          "text": [
            "[!] No more data! Scraping will stop now.\n",
            "found 0 deleted tweets in this search.\n",
            "[+] Finished: Successfully collected 1368 Tweets.\n"
          ],
          "name": "stdout"
        }
      ]
    },
    {
      "cell_type": "code",
      "metadata": {
        "colab": {
          "base_uri": "https://localhost:8080/"
        },
        "id": "ToYbH1NkQPML",
        "outputId": "80e00fb6-6265-4db6-dc37-464a2aee47bd"
      },
      "source": [
        "\n",
        "c=twint.Config()\n",
        "c.Search=\"استرازينيكا,جرعة\"\n",
        "c.Custom_query=\"استرازينيكا,جرعة\"\n",
        "c.Lang=\"ar\"\n",
        "c.Since=\"2020-11-24\"\n",
        "c.Until=\"2020-12-08\"\n",
        "c.Geo=\"23.885942,45.079162,400km\" \n",
        "c.Pandas= True \n",
        "c.Store_csv = True\n",
        "c.Count=True\n",
        "c.Hide_output = True\n",
        "c.Output = \"ist-3.csv\"\n",
        "twint.run.Search(c)"
      ],
      "execution_count": null,
      "outputs": [
        {
          "output_type": "stream",
          "text": [
            "[!] No more data! Scraping will stop now.\n",
            "found 0 deleted tweets in this search.\n",
            "[+] Finished: Successfully collected 7480 Tweets.\n"
          ],
          "name": "stdout"
        }
      ]
    },
    {
      "cell_type": "code",
      "metadata": {
        "colab": {
          "base_uri": "https://localhost:8080/"
        },
        "id": "i8CsfV6bQSuw",
        "outputId": "0e7ccc4e-fc8e-4675-be16-37acc83e5200"
      },
      "source": [
        "\n",
        "c=twint.Config()\n",
        "c.Search=\"أسترازينيكا,كورونا\"\n",
        "c.Custom_query=\"أسترازينيكا,كورونا\"\n",
        "c.Lang=\"ar\"\n",
        "c.Since=\"2020-11-24\"\n",
        "c.Until=\"2020-12-08\"\n",
        "c.Geo=\"23.885942,45.079162,400km\" \n",
        "c.Pandas= True \n",
        "c.Store_csv = True\n",
        "c.Count=True\n",
        "c.Hide_output = True\n",
        "c.Output = \"ist-4.csv\"\n",
        "twint.run.Search(c)"
      ],
      "execution_count": null,
      "outputs": [
        {
          "output_type": "stream",
          "text": [
            "[!] No more data! Scraping will stop now.\n",
            "found 0 deleted tweets in this search.\n",
            "[+] Finished: Successfully collected 14306 Tweets.\n"
          ],
          "name": "stdout"
        }
      ]
    },
    {
      "cell_type": "code",
      "metadata": {
        "colab": {
          "base_uri": "https://localhost:8080/"
        },
        "id": "0KB6Gb-VrCS7",
        "outputId": "9885f4e8-eef4-40b3-bffe-86085fe5fb65"
      },
      "source": [
        "c=twint.Config()\n",
        "c.Search=\"لقاح,اكسفورد\"\n",
        "#c.Custom_query=\"\"\n",
        "c.Lang=\"ar\"\n",
        "c.Since=\"2020-11-24\"\n",
        "c.Until=\"2020-12-08\"\n",
        "c.Geo=\"23.885942,45.079162,400km\" \n",
        "c.Pandas= True \n",
        "c.Store_csv = True\n",
        "c.Count=True\n",
        "c.Hide_output = True\n",
        "c.Output = \"oxf-1.csv\"\n",
        "twint.run.Search(c)"
      ],
      "execution_count": null,
      "outputs": [
        {
          "output_type": "stream",
          "text": [
            "[!] No more data! Scraping will stop now.\n",
            "found 0 deleted tweets in this search.\n",
            "[+] Finished: Successfully collected 1 Tweets.\n"
          ],
          "name": "stdout"
        }
      ]
    },
    {
      "cell_type": "markdown",
      "metadata": {
        "id": "cGhfS42drDbX"
      },
      "source": [
        "# فايز& استرازينيكا"
      ]
    },
    {
      "cell_type": "code",
      "metadata": {
        "colab": {
          "base_uri": "https://localhost:8080/"
        },
        "id": "qzx1a4jFrfAa",
        "outputId": "c223d1aa-7265-41f3-d65d-43bb7d714287"
      },
      "source": [
        "c=twint.Config()\n",
        "c.Search=\"لقاح\"\n",
        "#c.Custom_query=\"\"\n",
        "c.Lang=\"ar\"\n",
        "c.Since=\"2020-11-24\"\n",
        "c.Until=\"2020-12-08\"\n",
        "c.Geo=\"23.885942,45.079162,400km\" \n",
        "c.Pandas= True \n",
        "c.Store_csv = True\n",
        "c.Count=True\n",
        "c.Hide_output = True\n",
        "c.Output = \"gen1.csv\"\n",
        "twint.run.Search(c)"
      ],
      "execution_count": null,
      "outputs": [
        {
          "output_type": "stream",
          "text": [
            "[!] No more data! Scraping will stop now.\n",
            "found 0 deleted tweets in this search.\n",
            "[+] Finished: Successfully collected 144 Tweets.\n"
          ],
          "name": "stdout"
        }
      ]
    },
    {
      "cell_type": "code",
      "metadata": {
        "colab": {
          "base_uri": "https://localhost:8080/"
        },
        "id": "E7FbHLEwsYHv",
        "outputId": "4ae38a68-589f-4944-82d6-c2ce2b2c2179"
      },
      "source": [
        "c=twint.Config()\n",
        "c.Search=\"لقاح كورونا\"\n",
        "#c.Custom_query=\"\"\n",
        "c.Lang=\"ar\"\n",
        "c.Since=\"2020-11-24\"\n",
        "c.Until=\"2020-12-08\"\n",
        "c.Geo=\"23.885942,45.079162,400km\" \n",
        "c.Pandas= True \n",
        "c.Store_csv = True\n",
        "c.Count=True\n",
        "c.Hide_output = True\n",
        "c.Output = \"gen2.csv\"\n",
        "twint.run.Search(c)"
      ],
      "execution_count": null,
      "outputs": [
        {
          "output_type": "stream",
          "text": [
            "[!] No more data! Scraping will stop now.\n",
            "found 0 deleted tweets in this search.\n",
            "[+] Finished: Successfully collected 78 Tweets.\n"
          ],
          "name": "stdout"
        }
      ]
    },
    {
      "cell_type": "code",
      "metadata": {
        "id": "rcp2JDvOsmpx"
      },
      "source": [
        "c=twint.Config()\n",
        "c.Search=\"لقاح\"\n",
        "c.Custom_query=\"لقاح\"\n",
        "c.Lang=\"ar\"\n",
        "c.Since=\"2020-11-24\"\n",
        "c.Until=\"2020-12-08\"\n",
        "c.Geo=\"23.885942,45.079162,400km\" \n",
        "c.Pandas= True \n",
        "c.Store_csv = True\n",
        "c.Count=True\n",
        "c.Hide_output = True\n",
        "c.Output = \"gen3.csv\"\n",
        "twint.run.Search(c)"
      ],
      "execution_count": null,
      "outputs": []
    },
    {
      "cell_type": "code",
      "metadata": {
        "colab": {
          "base_uri": "https://localhost:8080/"
        },
        "id": "ebF6PfghuGy6",
        "outputId": "4a179dd3-afbd-4bdc-e43c-0aeb66bd82fc"
      },
      "source": [
        "c=twint.Config()\n",
        "c.Search=\"فايزر\"\n",
        "#c.Custom_query=\"لقاح\"\n",
        "c.Lang=\"ar\"\n",
        "c.Since=\"2020-11-24\"\n",
        "c.Until=\"2020-12-08\"\n",
        "c.Geo=\"23.885942,45.079162,400km\" \n",
        "c.Pandas= True \n",
        "c.Store_csv = True\n",
        "c.Count=True\n",
        "c.Hide_output = True\n",
        "c.Output = \"gen4.csv\"\n",
        "twint.run.Search(c)"
      ],
      "execution_count": null,
      "outputs": [
        {
          "output_type": "stream",
          "text": [
            "[!] No more data! Scraping will stop now.\n",
            "found 0 deleted tweets in this search.\n",
            "[+] Finished: Successfully collected 34 Tweets.\n"
          ],
          "name": "stdout"
        }
      ]
    },
    {
      "cell_type": "code",
      "metadata": {
        "colab": {
          "base_uri": "https://localhost:8080/"
        },
        "id": "Rx9Uec6-uQbB",
        "outputId": "d11bac09-9fc9-4a23-8867-ae3137fc87d2"
      },
      "source": [
        "c=twint.Config()\n",
        "c.Search=\"اكسفورد\"\n",
        "#c.Custom_query=\"لقاح\"\n",
        "c.Lang=\"ar\"\n",
        "c.Since=\"2020-11-24\"\n",
        "c.Until=\"2020-12-08\"\n",
        "c.Geo=\"23.885942,45.079162,400km\" \n",
        "c.Pandas= True \n",
        "c.Store_csv = True\n",
        "c.Count=True\n",
        "c.Hide_output = True\n",
        "c.Output = \"gen5.csv\"\n",
        "twint.run.Search(c)"
      ],
      "execution_count": null,
      "outputs": [
        {
          "output_type": "stream",
          "text": [
            "[!] No more data! Scraping will stop now.\n",
            "found 0 deleted tweets in this search.\n",
            "[+] Finished: Successfully collected 8 Tweets.\n"
          ],
          "name": "stdout"
        }
      ]
    },
    {
      "cell_type": "code",
      "metadata": {
        "colab": {
          "base_uri": "https://localhost:8080/"
        },
        "id": "6fyE-U-6uZK5",
        "outputId": "3a93ad69-0817-4259-ca95-eed6297247df"
      },
      "source": [
        "c=twint.Config()\n",
        "c.Search=\"استرازينيكا\"\n",
        "#c.Custom_query=\"لقاح\"\n",
        "c.Lang=\"ar\"\n",
        "c.Since=\"2020-11-24\"\n",
        "c.Until=\"2020-12-08\"\n",
        "c.Geo=\"23.885942,45.079162,400km\" \n",
        "c.Pandas= True \n",
        "c.Store_csv = True\n",
        "c.Count=True\n",
        "c.Hide_output = True\n",
        "c.Output = \"gen6.csv\"\n",
        "twint.run.Search(c)"
      ],
      "execution_count": null,
      "outputs": [
        {
          "output_type": "stream",
          "text": [
            "[!] No more data! Scraping will stop now.\n",
            "found 0 deleted tweets in this search.\n",
            "[+] Finished: Successfully collected 0 Tweets.\n"
          ],
          "name": "stdout"
        }
      ]
    },
    {
      "cell_type": "markdown",
      "metadata": {
        "id": "LSCBGqRuQx_G"
      },
      "source": [
        "#استرازينيكا  \n",
        "* 18/1/2021 - 31/1/2021"
      ]
    },
    {
      "cell_type": "code",
      "metadata": {
        "colab": {
          "base_uri": "https://localhost:8080/"
        },
        "id": "TG7UWO3dRCki",
        "outputId": "b98c800b-cb11-4f07-cfa7-8a6aea522e0c"
      },
      "source": [
        "c=twint.Config()\n",
        "c.Search=\"لقاح\"\n",
        "#c.Custom_query=\"لقاح\"\n",
        "c.Lang=\"ar\"\n",
        "c.Since=\"2021-01-18\"\n",
        "c.Until=\"2021-02-01\"\n",
        "c.Geo=\"23.885942,45.079162,400km\" \n",
        "c.Pandas= True \n",
        "c.Store_csv = True\n",
        "c.Count=True\n",
        "c.Hide_output = True\n",
        "c.Output = \"astraz1.csv\"\n",
        "twint.run.Search(c)"
      ],
      "execution_count": null,
      "outputs": [
        {
          "output_type": "stream",
          "text": [
            "[!] No more data! Scraping will stop now.\n",
            "found 0 deleted tweets in this search.\n",
            "[+] Finished: Successfully collected 224 Tweets.\n"
          ],
          "name": "stdout"
        }
      ]
    },
    {
      "cell_type": "code",
      "metadata": {
        "colab": {
          "base_uri": "https://localhost:8080/"
        },
        "id": "zh4gTIJ7RZYb",
        "outputId": "15106118-27f0-4f9c-fa57-07e4a4c6aaf7"
      },
      "source": [
        "c=twint.Config()\n",
        "c.Search=\"تطعيم\"\n",
        "#c.Custom_query=\"لقاح\"\n",
        "c.Lang=\"ar\"\n",
        "c.Since=\"2021-01-18\"\n",
        "c.Until=\"2021-02-01\"\n",
        "c.Geo=\"23.885942,45.079162,400km\" \n",
        "c.Pandas= True \n",
        "c.Store_csv = True\n",
        "c.Count=True\n",
        "c.Hide_output = True\n",
        "c.Output = \"astraz2.csv\"\n",
        "twint.run.Search(c)"
      ],
      "execution_count": null,
      "outputs": [
        {
          "output_type": "stream",
          "text": [
            "[!] No more data! Scraping will stop now.\n",
            "found 0 deleted tweets in this search.\n",
            "[+] Finished: Successfully collected 33 Tweets.\n"
          ],
          "name": "stdout"
        }
      ]
    },
    {
      "cell_type": "code",
      "metadata": {
        "colab": {
          "base_uri": "https://localhost:8080/"
        },
        "id": "atxVuXHERxt1",
        "outputId": "1c60259b-3c4e-4e00-d877-c628f9daed0f"
      },
      "source": [
        "c=twint.Config()\n",
        "c.Search=\"استرازينيكا\"\n",
        "#c.Custom_query=\"لقاح\"\n",
        "c.Lang=\"ar\"\n",
        "c.Since=\"2021-01-18\"\n",
        "c.Until=\"2021-02-01\"\n",
        "c.Geo=\"23.885942,45.079162,400km\" \n",
        "c.Pandas= True \n",
        "c.Store_csv = True\n",
        "c.Count=True\n",
        "c.Hide_output = True\n",
        "c.Output = \"astraz3.csv\"\n",
        "twint.run.Search(c)"
      ],
      "execution_count": null,
      "outputs": [
        {
          "output_type": "stream",
          "text": [
            "[!] No more data! Scraping will stop now.\n",
            "found 0 deleted tweets in this search.\n",
            "[+] Finished: Successfully collected 3 Tweets.\n"
          ],
          "name": "stdout"
        }
      ]
    },
    {
      "cell_type": "code",
      "metadata": {
        "colab": {
          "base_uri": "https://localhost:8080/"
        },
        "id": "adGr3tXnR4yh",
        "outputId": "3196fd4e-00a4-415d-c493-153707d5a2ec"
      },
      "source": [
        "c=twint.Config()\n",
        "c.Search=\"اكسفورد\"\n",
        "#c.Custom_query=\"لقاح\"\n",
        "c.Lang=\"ar\"\n",
        "c.Since=\"2021-01-18\"\n",
        "c.Until=\"2021-02-01\"\n",
        "c.Geo=\"23.885942,45.079162,400km\" \n",
        "c.Pandas= True \n",
        "c.Store_csv = True\n",
        "c.Count=True\n",
        "c.Hide_output = True\n",
        "c.Output = \"astraz4.csv\"\n",
        "twint.run.Search(c)"
      ],
      "execution_count": null,
      "outputs": [
        {
          "output_type": "stream",
          "text": [
            "[!] No more data! Scraping will stop now.\n",
            "found 0 deleted tweets in this search.\n",
            "[+] Finished: Successfully collected 5 Tweets.\n"
          ],
          "name": "stdout"
        }
      ]
    },
    {
      "cell_type": "code",
      "metadata": {
        "colab": {
          "base_uri": "https://localhost:8080/"
        },
        "id": "qb1-s3gYRSEx",
        "outputId": "e9932db2-546c-4475-de4b-a1c9c5c63f55"
      },
      "source": [
        "c=twint.Config()\n",
        "c.Search=\"لقاح استرازينيكا\"\n",
        "#c.Custom_query=\"لقاح\"\n",
        "c.Lang=\"ar\"\n",
        "c.Since=\"2021-01-18\"\n",
        "c.Until=\"2021-02-01\"\n",
        "c.Geo=\"23.885942,45.079162,400km\" \n",
        "c.Pandas= True \n",
        "c.Store_csv = True\n",
        "c.Count=True\n",
        "c.Hide_output = True\n",
        "c.Output = \"astraz5.csv\"\n",
        "twint.run.Search(c)"
      ],
      "execution_count": null,
      "outputs": [
        {
          "output_type": "stream",
          "text": [
            "[!] No more data! Scraping will stop now.\n",
            "found 0 deleted tweets in this search.\n",
            "[+] Finished: Successfully collected 1 Tweets.\n"
          ],
          "name": "stdout"
        }
      ]
    },
    {
      "cell_type": "code",
      "metadata": {
        "colab": {
          "base_uri": "https://localhost:8080/"
        },
        "id": "YleEbhhHSV4M",
        "outputId": "44613e2c-e76d-42dc-cb84-c514aed8a9cd"
      },
      "source": [
        "c=twint.Config()\n",
        "c.Search=\"اللقاح\"\n",
        "#c.Custom_query=\"اللقاح\"\n",
        "c.Lang=\"ar\"\n",
        "c.Since=\"2021-01-18\"\n",
        "c.Until=\"2021-02-01\"\n",
        "c.Geo=\"23.885942,45.079162,400km\" \n",
        "c.Pandas= True \n",
        "c.Store_csv = True\n",
        "c.Count=True\n",
        "c.Hide_output = True\n",
        "c.Output = \"astraz6.csv\"\n",
        "twint.run.Search(c)"
      ],
      "execution_count": null,
      "outputs": [
        {
          "output_type": "stream",
          "text": [
            "[!] No more data! Scraping will stop now.\n",
            "found 0 deleted tweets in this search.\n",
            "[+] Finished: Successfully collected 258 Tweets.\n"
          ],
          "name": "stdout"
        }
      ]
    },
    {
      "cell_type": "code",
      "metadata": {
        "colab": {
          "base_uri": "https://localhost:8080/"
        },
        "id": "z3dJD6tpX5Ag",
        "outputId": "feb11127-2794-4adb-9580-e15e616f9ff7"
      },
      "source": [
        "c=twint.Config()\n",
        "c.Search=\"اعتماد، لقاح\"\n",
        "#c.Custom_query=\"اللقاح\"\n",
        "c.Lang=\"ar\"\n",
        "c.Since=\"2021-01-18\"\n",
        "c.Until=\"2021-02-01\"\n",
        "c.Geo=\"23.885942,45.079162,400km\" \n",
        "c.Pandas= True \n",
        "c.Store_csv = True\n",
        "c.Count=True\n",
        "c.Hide_output = True\n",
        "c.Output = \"astraz7.csv\"\n",
        "twint.run.Search(c)"
      ],
      "execution_count": null,
      "outputs": [
        {
          "output_type": "stream",
          "text": [
            "[!] No more data! Scraping will stop now.\n",
            "found 0 deleted tweets in this search.\n",
            "[+] Finished: Successfully collected 0 Tweets.\n"
          ],
          "name": "stdout"
        }
      ]
    },
    {
      "cell_type": "code",
      "metadata": {
        "colab": {
          "base_uri": "https://localhost:8080/"
        },
        "id": "qnFiV6ABX_RZ",
        "outputId": "0b304dc5-c724-4c05-9e95-c826d366444e"
      },
      "source": [
        "c=twint.Config()\n",
        "c.Search=\"اعتماد, استرازينيكا\"\n",
        "#c.Custom_query=\"اللقاح\"\n",
        "c.Lang=\"ar\"\n",
        "c.Since=\"2021-01-18\"\n",
        "c.Until=\"2021-02-01\"\n",
        "c.Geo=\"23.885942,45.079162,400km\" \n",
        "c.Pandas= True \n",
        "c.Store_csv = True\n",
        "c.Count=True\n",
        "c.Hide_output = True\n",
        "c.Output = \"astraz8.csv\"\n",
        "twint.run.Search(c)"
      ],
      "execution_count": null,
      "outputs": [
        {
          "output_type": "stream",
          "text": [
            "[!] No more data! Scraping will stop now.\n",
            "found 0 deleted tweets in this search.\n",
            "[+] Finished: Successfully collected 0 Tweets.\n"
          ],
          "name": "stdout"
        }
      ]
    },
    {
      "cell_type": "code",
      "metadata": {
        "colab": {
          "base_uri": "https://localhost:8080/"
        },
        "id": "erGZsK1tYOD8",
        "outputId": "2db66b72-5b1d-4d70-ea20-45027042acf3"
      },
      "source": [
        "c=twint.Config()\n",
        "c.Search=\"استرازينيكا, لقاح\"\n",
        "#c.Custom_query=\"اللقاح\"\n",
        "c.Lang=\"ar\"\n",
        "c.Since=\"2021-01-18\"\n",
        "c.Until=\"2021-02-01\"\n",
        "c.Geo=\"23.885942,45.079162,400km\" \n",
        "c.Pandas= True \n",
        "c.Store_csv = True\n",
        "c.Count=True\n",
        "c.Hide_output = True\n",
        "c.Output = \"astraz9.csv\"\n",
        "twint.run.Search(c)"
      ],
      "execution_count": null,
      "outputs": [
        {
          "output_type": "stream",
          "text": [
            "[!] No more data! Scraping will stop now.\n",
            "found 0 deleted tweets in this search.\n",
            "[+] Finished: Successfully collected 1 Tweets.\n"
          ],
          "name": "stdout"
        }
      ]
    },
    {
      "cell_type": "code",
      "metadata": {
        "colab": {
          "base_uri": "https://localhost:8080/"
        },
        "id": "TGrt0Xb1YZeX",
        "outputId": "232d5ade-7b5e-44fa-aa3e-b1c7715ed133"
      },
      "source": [
        "c=twint.Config()\n",
        "c.Search=\"أسترازينكا\"\n",
        "#c.Custom_query=\"اللقاح\"\n",
        "c.Lang=\"ar\"\n",
        "c.Since=\"2021-01-18\"\n",
        "c.Until=\"2021-02-01\"\n",
        "c.Geo=\"23.885942,45.079162,400km\" \n",
        "c.Pandas= True \n",
        "c.Store_csv = True\n",
        "c.Count=True\n",
        "c.Hide_output = True\n",
        "c.Output = \"astraz10.csv\"\n",
        "twint.run.Search(c)"
      ],
      "execution_count": null,
      "outputs": [
        {
          "output_type": "stream",
          "text": [
            "[!] No more data! Scraping will stop now.\n",
            "found 0 deleted tweets in this search.\n",
            "[+] Finished: Successfully collected 0 Tweets.\n"
          ],
          "name": "stdout"
        }
      ]
    },
    {
      "cell_type": "code",
      "metadata": {
        "colab": {
          "base_uri": "https://localhost:8080/"
        },
        "id": "gbGgL3MUSiYq",
        "outputId": "84d24299-6f63-4984-b47e-062c2dcee110"
      },
      "source": [
        "c=twint.Config()\n",
        "c.Search=\"أسترازينكا\"\n",
        "#c.Custom_query=\"اللقاح\"\n",
        "c.Lang=\"ar\"\n",
        "c.Since=\"2021-01-18\"\n",
        "c.Until=\"2021-02-01\"\n",
        "#c.Geo=\"23.885942,45.079162,400km\" \n",
        "c.Pandas= True \n",
        "c.Store_csv = True\n",
        "c.Count=True\n",
        "c.Hide_output = True\n",
        "c.Output = \"astraz10.csv\"\n",
        "twint.run.Search(c)"
      ],
      "execution_count": null,
      "outputs": [
        {
          "output_type": "stream",
          "text": [
            "[!] No more data! Scraping will stop now.\n",
            "found 0 deleted tweets in this search.\n",
            "[+] Finished: Successfully collected 418 Tweets.\n"
          ],
          "name": "stdout"
        }
      ]
    },
    {
      "cell_type": "code",
      "metadata": {
        "colab": {
          "base_uri": "https://localhost:8080/"
        },
        "id": "eOvA2SV1cagN",
        "outputId": "2f84a1db-8bdf-42cf-8c6d-2bd5749e832f"
      },
      "source": [
        "c=twint.Config()\n",
        "c.Search=\" السعودية,أسترازينكا\"\n",
        "#c.Custom_query=\"اللقاح\"\n",
        "c.Lang=\"ar\"\n",
        "c.Since=\"2021-01-18\"\n",
        "c.Until=\"2021-02-01\"\n",
        "#c.Geo=\"23.885942,45.079162,400km\" \n",
        "c.Pandas= True \n",
        "c.Store_csv = True\n",
        "c.Count=True\n",
        "c.Hide_output = True\n",
        "c.Output = \"astraz11.csv\"\n",
        "twint.run.Search(c)"
      ],
      "execution_count": null,
      "outputs": [
        {
          "output_type": "stream",
          "text": [
            "[!] No more data! Scraping will stop now.\n",
            "found 0 deleted tweets in this search.\n",
            "[+] Finished: Successfully collected 8 Tweets.\n"
          ],
          "name": "stdout"
        }
      ]
    }
  ]
}