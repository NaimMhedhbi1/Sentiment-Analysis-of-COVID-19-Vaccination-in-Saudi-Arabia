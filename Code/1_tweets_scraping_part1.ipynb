{
  "nbformat": 4,
  "nbformat_minor": 0,
  "metadata": {
    "colab": {
      "name": "1-tweets_scraping_part1.ipynb",
      "provenance": [],
      "collapsed_sections": [],
      "authorship_tag": "ABX9TyPVAibRVT5PJ66eM36eMwZq"
    },
    "kernelspec": {
      "display_name": "Python 3",
      "name": "python3"
    },
    "language_info": {
      "name": "python"
    }
  },
  "cells": [
    {
      "cell_type": "markdown",
      "metadata": {
        "id": "5WxoOtVwTzfm"
      },
      "source": [
        "**1| Install \"nest_asyncio\" and \"twint\"**"
      ]
    },
    {
      "cell_type": "code",
      "metadata": {
        "id": "UKLUV99bza_v"
      },
      "source": [
        "!pip3 install twint"
      ],
      "execution_count": null,
      "outputs": []
    },
    {
      "cell_type": "code",
      "metadata": {
        "id": "Ke3PGtRKSzKo"
      },
      "source": [
        "!pip3 uninstall twint"
      ],
      "execution_count": null,
      "outputs": []
    },
    {
      "cell_type": "code",
      "metadata": {
        "id": "TQ8AxN-1n0sM"
      },
      "source": [
        "!pip3 install --upgrade git+https://github.com/twintproject/twint.git@origin/master#egg=twint"
      ],
      "execution_count": null,
      "outputs": []
    },
    {
      "cell_type": "code",
      "metadata": {
        "id": "E2hYOBchN3hQ"
      },
      "source": [
        "!pip install geopy"
      ],
      "execution_count": null,
      "outputs": []
    },
    {
      "cell_type": "code",
      "metadata": {
        "id": "a2ABdkE5nyAe"
      },
      "source": [
        "!pip install nest-asyncio"
      ],
      "execution_count": null,
      "outputs": []
    },
    {
      "cell_type": "markdown",
      "metadata": {
        "id": "Yzrd4DO7T9jg"
      },
      "source": [
        "**2| Import the Required Libraries**"
      ]
    },
    {
      "cell_type": "code",
      "metadata": {
        "id": "gcpNCb0orI2E"
      },
      "source": [
        "import twint\n",
        "import pandas as pd\n",
        "import nest_asyncio \n",
        "nest_asyncio.apply()"
      ],
      "execution_count": null,
      "outputs": []
    },
    {
      "cell_type": "code",
      "metadata": {
        "id": "OOVx9u9YoHMT"
      },
      "source": [
        "c=twint.Config()"
      ],
      "execution_count": null,
      "outputs": []
    },
    {
      "cell_type": "markdown",
      "metadata": {
        "id": "uf34VXkTVJ-H"
      },
      "source": [
        "**3| Configure Twint & Tweets Extraction**"
      ]
    },
    {
      "cell_type": "markdown",
      "metadata": {
        "id": "3U4UT_nnQPQ5"
      },
      "source": [
        "# ~lift travel ban\n",
        "17/5/2021"
      ]
    },
    {
      "cell_type": "code",
      "metadata": {
        "id": "Jj5oVBy-ThRo"
      },
      "source": [
        "#event date is 17/05 the data will be collected in a 14 days range\n",
        "c.Search=\"جرعة , السفر\"\n",
        "c.Lang=\"ar\"\n",
        "c.Since=\"2021-05-14\"\n",
        "#c.Until=\"2021-05-20\"\n",
        "#c.Since=\"2021-05-20\"\n",
        "c.Until=\"2021-05-31\"\n",
        "c.Geo=\"23.885942,45.079162,400km\" \n",
        "#c.Geo=\"23.571861501954036, 45.61214440937646,4000km\"  #same number of tweets with or without geo location\n",
        "c.Pandas= True \n",
        "c.Store_csv = True\n",
        "c.Count=True\n",
        "c.Hide_output = True\n",
        "c.Output = \"NewP_travel_ban1.csv\"\n",
        "twint.run.Search(c)\n"
      ],
      "execution_count": null,
      "outputs": []
    },
    {
      "cell_type": "code",
      "metadata": {
        "id": "lOVdquG3fPhp"
      },
      "source": [
        "c.Search=\"السفر ، لقاح\"\n",
        "c.Lang=\"ar\"\n",
        "#c.Geo=\"23.571861501954036, 45.61214440937646,4000km\"\n",
        "c.Geo=\"23.885942,45.079162,400km\"  #same number of tweets with or without geo location\n",
        "c.Since=\"2021-05-17\"\n",
        "c.Until=\"2021-05-31\"\n",
        "c.Pandas= True \n",
        "c.Count = True\n",
        "c.Store_csv = True\n",
        "c.Hide_output = True\n",
        "c.Output = \"NewP_travel_ban2.csv\"\n",
        "twint.run.Search(c)"
      ],
      "execution_count": null,
      "outputs": []
    },
    {
      "cell_type": "code",
      "metadata": {
        "id": "vptGUCFGfrrL"
      },
      "source": [
        "c.Search=\" اللقاح ،السماح ، لقاح\"\n",
        "c.Lang=\"ar\"\n",
        "#c.Geo=\"23.571861501954036, 45.61214440937646,4000km\"\n",
        "c.Geo=\"23.885942,45.079162,400km\"  #same number of tweets with or without geo location\n",
        "c.Since=\"2021-05-17\"\n",
        "c.Until=\"2021-05-31\"\n",
        "c.Pandas= True \n",
        "c.Count = True\n",
        "c.Store_csv = True\n",
        "c.Hide_output = True\n",
        "c.Output = \"NewP_travel_ban4.csv\"\n",
        "twint.run.Search(c)"
      ],
      "execution_count": null,
      "outputs": []
    },
    {
      "cell_type": "code",
      "metadata": {
        "id": "N7SBVW5Yf8X9"
      },
      "source": [
        "c.Search=\" كورونا ،السفر ، لقاح\"\n",
        "c.Lang=\"ar\"\n",
        "#c.Geo=\"23.571861501954036, 45.61214440937646,4000km\"\n",
        "c.Geo=\"23.885942,45.079162,400km\"  #same number of tweets with or without geo location\n",
        "c.Since=\"2021-05-17\"\n",
        "c.Until=\"2021-05-31\"\n",
        "c.Pandas= True \n",
        "c.Count = True\n",
        "c.Store_csv = True\n",
        "c.Hide_output = True\n",
        "c.Output = \"NewP_travel_ban3.csv\"\n",
        "twint.run.Search(c)"
      ],
      "execution_count": null,
      "outputs": []
    },
    {
      "cell_type": "code",
      "metadata": {
        "id": "zwDTULs6pt_T"
      },
      "source": [
        "# i converted here to excel not in the above cell beacuse when i save as excel directly it shows that the data is currpted.\n",
        "df=pd.read_csv('/content/NewP_travel_ban4.csv')\n",
        "df.to_excel('/content/NewP_travel_ban4.xlsx')"
      ],
      "execution_count": null,
      "outputs": []
    },
    {
      "cell_type": "markdown",
      "metadata": {
        "id": "5z02gx6CP-2E"
      },
      "source": [
        "# ~Return to in-class attendance \n",
        " 10/5/2021 - 24/05/2021"
      ]
    },
    {
      "cell_type": "code",
      "metadata": {
        "id": "3DvGzNW-c5hO"
      },
      "source": [
        "c.Search=\"حضوريا , اللقاح\"\n",
        "c.Lang=\"ar\"\n",
        "c.Since=\"2021-05-07\"\n",
        "#c.Until=\"2021-05-13\"\n",
        "#c.Since=\"2021-05-13\"\n",
        "c.Geo=\"23.885942,45.079162,400km\" \n",
        "c.Until=\"2021-05-21\"\n",
        "c.Pandas= True \n",
        "c.Store_csv = True\n",
        "c.Output = \"/content/sample_data/in-class.csv\"\n",
        "twint.run.Search(c)"
      ],
      "execution_count": null,
      "outputs": []
    },
    {
      "cell_type": "code",
      "metadata": {
        "id": "uWzTg23EO6QE"
      },
      "source": [
        "c.Search=\"لقاح , حضورياً \"\n",
        "c.Lang=\"ar\"\n",
        "c.Since=\"2021-05-07\"\n",
        "#c.Until=\"2021-05-13\"\n",
        "#c.Since=\"2021-05-13\"\n",
        "c.Until=\"2021-05-21\"\n",
        "c.Pandas= True \n",
        "c.Store_csv = True\n",
        "c.Output = \"/content/sample_data/in-class3.csv\"\n",
        "twint.run.Search(c)"
      ],
      "execution_count": null,
      "outputs": []
    },
    {
      "cell_type": "code",
      "metadata": {
        "id": "obEC-xPdNia4"
      },
      "source": [
        "#Done\n",
        "c.Search=\" حضوري, تطعيم\"\n",
        "c.Lang=\"ar\"\n",
        "c.Since=\"2021-05-07\"\n",
        "#c.Until=\"2021-05-13\"\n",
        "#c.Since=\"2021-05-13\"\n",
        "c.Until=\"2021-05-21\"\n",
        "c.Pandas= True \n",
        "c.Store_csv = True\n",
        "c.Output = \"/content/sample_data/in-class2.csv\"\n",
        "twint.run.Search(c)"
      ],
      "execution_count": null,
      "outputs": []
    },
    {
      "cell_type": "code",
      "metadata": {
        "id": "aUVCHTr3PnsX"
      },
      "source": [
        "#Done\n",
        "c.Search=\" حضوريا, تطعيم\"\n",
        "c.Lang=\"ar\"\n",
        "c.Since=\"2021-05-07\"\n",
        "#c.Until=\"2021-05-13\"\n",
        "#c.Since=\"2021-05-13\"\n",
        "c.Until=\"2021-05-21\"\n",
        "c.Pandas= True \n",
        "c.Store_csv = True\n",
        "c.Output = \"/content/sample_data/in-class4.csv\"\n",
        "twint.run.Search(c)"
      ],
      "execution_count": null,
      "outputs": []
    },
    {
      "cell_type": "code",
      "metadata": {
        "id": "h5CftfOOKxze"
      },
      "source": [
        "#test\n",
        "all_cities = [\"Riyadh,Jeddah,Dammam,Khobar\"]\n",
        "def scrape_by_city(keywords,until , since, outfile):\n",
        "    unique_cities=set(all_cities) #To get unique cities of country\n",
        "    cities = sorted(unique_cities) #Sort & convert datatype to list\n",
        "    for city in cities:\n",
        "        print(city)\n",
        "        c = twint.Config()\n",
        "        c.Lang='ar'\n",
        "        c.Search=\"تطعيم\" \n",
        "        c.Since=since\n",
        "        c.Until=until\n",
        "        c.Store_csv = True\n",
        "        c.Output = \"./\" + outfile\n",
        "        #c.Near = 'Saudi Arabia'\n",
        "        c.Hide_output = True\n",
        "        c.Pandas= True\n",
        "        c.Count = True\n",
        "        c.Stats = True\n",
        "        c.Resume = 'resume.txt'\n",
        "        twint.run.Search(c)\n",
        "scrape_by_city('', '2021-05-24','2021-05-10' ,'ksa_in_classtwst.csv')"
      ],
      "execution_count": null,
      "outputs": []
    },
    {
      "cell_type": "markdown",
      "metadata": {
        "id": "Ti8LimPdoME3"
      },
      "source": [
        "#New extracted data"
      ]
    },
    {
      "cell_type": "code",
      "metadata": {
        "id": "OyKP61LfOnTh"
      },
      "source": [
        "#done\n",
        "c=twint.Config()\n",
        "c.Search=\"لقاح, الدراسة\"\n",
        "c.Lang=\"ar\"\n",
        "c.Since=\"2021-05-07\"\n",
        "#c.Until=\"2021-05-14\"\n",
        "#c.Since=\"2021-05-14\"\n",
        "c.Until=\"2021-05-24\"\n",
        "c.Pandas= True \n",
        "c.Geo=\"23.885942,45.079162,400km\" \n",
        "c.Count = True\n",
        "c.Store_csv = True\n",
        "c.Output = \"in-class6.csv\"\n",
        "twint.run.Search(c)"
      ],
      "execution_count": null,
      "outputs": []
    },
    {
      "cell_type": "code",
      "metadata": {
        "id": "p9ALaQdAg3tX"
      },
      "source": [
        "#saved\n",
        "c=twint.Config()\n",
        "c.Search=\" لقاح، كورونا، دراسة\"\n",
        "c.Lang=\"ar\"\n",
        "c.Geo=\"23.885942,45.079162,400km\" \n",
        "c.Since=\"2021-05-07\"\n",
        "#c.Until=\"2021-05-14\"\n",
        "#c.Since=\"2021-05-14\"\n",
        "c.Until=\"2021-05-24\"\n",
        "c.Pandas= True \n",
        "c.Count = True\n",
        "c.Store_csv = True\n",
        "c.Output = \"/content/sample_data/in-class7.csv\"\n",
        "twint.run.Search(c)"
      ],
      "execution_count": null,
      "outputs": []
    },
    {
      "cell_type": "code",
      "metadata": {
        "id": "FDKXVhaWhs0K"
      },
      "source": [
        "c=twint.Config()\n",
        "c.Search=\"لقاح، كورونا\"\n",
        "c.Lang=\"ar\"\n",
        "c.Geo=\"23.885942,45.079162,400km\" \n",
        "c.Since=\"2021-05-07\"\n",
        "#c.Until=\"2021-05-14\"\n",
        "#c.Since=\"2021-05-14\"\n",
        "c.Until=\"2021-05-24\"\n",
        "c.Pandas= True \n",
        "c.Count = True\n",
        "c.Store_csv = True\n",
        "c.Output = \"in-class8.csv\"\n",
        "twint.run.Search(c)"
      ],
      "execution_count": null,
      "outputs": []
    },
    {
      "cell_type": "code",
      "metadata": {
        "id": "HD_rgrIjia9O"
      },
      "source": [
        "#saved\n",
        "c=twint.Config()\n",
        "c.Search=\"السعودية ، عودة ، كورونا\"\n",
        "c.Lang=\"ar\"\n",
        "c.Geo=\"23.885942,45.079162,400km\" \n",
        "c.Since=\"2021-05-07\"\n",
        "#c.Until=\"2021-05-14\"\n",
        "#c.Since=\"2021-05-14\"\n",
        "c.Until=\"2021-05-24\"\n",
        "c.Pandas= True \n",
        "c.Count = True\n",
        "c.Store_csv = True\n",
        "c.Output = \"/content/sample_data/in-class9.csv\"\n",
        "twint.run.Search(c)"
      ],
      "execution_count": null,
      "outputs": []
    },
    {
      "cell_type": "code",
      "metadata": {
        "id": "RNjpXBOgjCRa"
      },
      "source": [
        "#saved\n",
        "c=twint.Config()\n",
        "c.Search=\"لقاح ، عودة ، الطلاب\"\n",
        "c.Lang=\"ar\"\n",
        "c.Since=\"2021-05-07\"\n",
        "#c.Until=\"2021-05-14\"\n",
        "#c.Since=\"2021-05-14\"\n",
        "c.Until=\"2021-05-24\"\n",
        "c.Pandas= True \n",
        "c.Count = True\n",
        "c.Store_csv = True\n",
        "c.Output = \"/content/sample_data/in-class10.csv\"\n",
        "twint.run.Search(c)"
      ],
      "execution_count": null,
      "outputs": []
    },
    {
      "cell_type": "code",
      "metadata": {
        "id": "emQM_rPsjLfJ"
      },
      "source": [
        "#saved\n",
        "c=twint.Config()\n",
        "c.Search=\"لقاح ، عودة ، الدراسة\"\n",
        "c.Lang=\"ar\"\n",
        "c.Since=\"2021-05-07\"\n",
        "#c.Until=\"2021-05-14\"\n",
        "#c.Since=\"2021-05-14\"\n",
        "c.Until=\"2021-05-24\"\n",
        "c.Pandas= True \n",
        "c.Count = True\n",
        "c.Store_csv = True\n",
        "c.Output = \"/content/sample_data/in-class11.csv\"\n",
        "twint.run.Search(c)"
      ],
      "execution_count": null,
      "outputs": []
    },
    {
      "cell_type": "code",
      "metadata": {
        "id": "qZV0gFbJjTl7"
      },
      "source": [
        "#saved\n",
        "c=twint.Config()\n",
        "c.Search=\"مدرسين ، تطعيم \"\n",
        "c.Lang=\"ar\"\n",
        "c.Since=\"2021-05-07\"\n",
        "#c.Until=\"2021-05-14\"\n",
        "#c.Since=\"2021-05-14\"\n",
        "c.Until=\"2021-05-24\"\n",
        "c.Pandas= True \n",
        "c.Count = True\n",
        "c.Store_csv = True\n",
        "c.Output = \"/content/sample_data/in-class12.csv\"\n",
        "twint.run.Search(c)"
      ],
      "execution_count": null,
      "outputs": []
    },
    {
      "cell_type": "code",
      "metadata": {
        "id": "XqjPWHYdnanv"
      },
      "source": [
        "#Done\n",
        "c=twint.Config()\n",
        "c.Search=\"لقاح كورونا\"\n",
        "c.Lang=\"ar\"\n",
        "c.Since=\"2021-05-7\"\n",
        "c.Until=\"2021-05-22\"\n",
        "c.Pandas= True \n",
        "c.Count = True\n",
        "c.Store_csv = True\n",
        "c.Output = \"/content/sample_data/general.csv\"\n",
        "twint.run.Search(c)"
      ],
      "execution_count": null,
      "outputs": []
    },
    {
      "cell_type": "code",
      "metadata": {
        "id": "i37iqbN4k6E3"
      },
      "source": [
        "#saved\n",
        "c=twint.Config()\n",
        "c.Search=\"لقاح\"\n",
        "c.Lang=\"ar\"\n",
        "#c.Near =\"Saudi Arabia\"\n",
        "c.Geo=\"23.885942,45.079162,400km\" \n",
        "c.Since=\"2021-05-10\"\n",
        "c.Until=\"2021-05-11\"\n",
        "c.Pandas= True \n",
        "c.Count = True\n",
        "c.Store_csv = True\n",
        "c.Output = \"in-class16.csv\"\n",
        "twint.run.Search(c)"
      ],
      "execution_count": null,
      "outputs": []
    },
    {
      "cell_type": "code",
      "metadata": {
        "id": "PAmSddIDrUPi"
      },
      "source": [
        "#saved\n",
        "c=twint.Config()\n",
        "c.Search=\" اللقاح ، الدراسة\"\n",
        "c.Lang=\"ar\"\n",
        "#c.Near =\"Saudi Arabia\" \n",
        "#c.Geo=\"23.885942,45.079162,400km\"\n",
        "#c.Since=\"2021-05-10\"\n",
        "#c.Until=\"2021-05-11\"\n",
        "c.Since=\"2021-05-11\"\n",
        "c.Until=\"2021-05-24\"\n",
        "c.Pandas= True \n",
        "c.Count = True\n",
        "c.Store_csv = True\n",
        "c.Output = \"in-class19.csv\"\n",
        "twint.run.Search(c)"
      ],
      "execution_count": null,
      "outputs": []
    },
    {
      "cell_type": "code",
      "metadata": {
        "id": "TXU6oT7R7rlD"
      },
      "source": [
        "#new\n",
        "c=twint.Config()\n",
        "c.Search=\"تطعيم\"\n",
        "c.Lang=\"ar\"\n",
        "c.Geo=\"23.885942,45.079162,400km\" \n",
        "c.Since=\"2021-05-10\"\n",
        "c.Until=\"2021-05-24\"\n",
        "c.Limit=100\n",
        "c.Hide_output=True\n",
        "c.Pandas= True \n",
        "c.Count = True\n",
        "c.Store_csv = True\n",
        "c.Output = \"/content/sample_data/in-class-n1.csv\"\n",
        "twint.run.Search(c)"
      ],
      "execution_count": null,
      "outputs": []
    },
    {
      "cell_type": "code",
      "metadata": {
        "id": "gD4xBvjp79--"
      },
      "source": [
        "#\n",
        "c=twint.Config()\n",
        "c.Search=\"توكلنا\"\n",
        "c.Lang=\"ar\"\n",
        "c.Geo=\"23.885942,45.079162,400km\" \n",
        "c.Since=\"2021-05-10\"\n",
        "c.Until=\"2021-05-24\"\n",
        "c.Pandas= True \n",
        "c.Count = True\n",
        "c.Store_csv = True\n",
        "c.Output = \"in-class-n2.csv\"\n",
        "twint.run.Search(c)"
      ],
      "execution_count": null,
      "outputs": []
    },
    {
      "cell_type": "code",
      "metadata": {
        "id": "5iojVBxYv9db"
      },
      "source": [
        "#new\n",
        "c=twint.Config()\n",
        "c.Search=\"لقاح ،عمرة \"\n",
        "c.Lang=\"ar\"\n",
        "c.Geo=\"23.885942,45.079162,400km\" \n",
        "c.Since=\"2021-05-17\"\n",
        "c.Until=\"2021-05-31\"\n",
        "c.Pandas= True \n",
        "c.Count = True\n",
        "c.Store_csv = True\n",
        "c.Output = \"vaccine_n3.csv\"\n",
        "twint.run.Search(c)"
      ],
      "execution_count": null,
      "outputs": []
    },
    {
      "cell_type": "code",
      "metadata": {
        "id": "l9UZyQLlO8s2"
      },
      "source": [
        "#new\n",
        "c=twint.Config()\n",
        "c.Search=\"العمرة\"\n",
        "c.Lang=\"ar\"\n",
        "c.Geo=\"23.885942,45.079162,400km\" \n",
        "c.Since=\"2021-05-17\"\n",
        "c.Until=\"2021-05-31\"\n",
        "c.Pandas= True \n",
        "c.Count = True\n",
        "c.Store_csv = True\n",
        "c.Output = \"vaccine_n4.csv\"\n",
        "twint.run.Search(c)"
      ],
      "execution_count": null,
      "outputs": []
    },
    {
      "cell_type": "code",
      "metadata": {
        "id": "v_UWkX0_PTSo"
      },
      "source": [
        "#not related data! will not use it \n",
        "c=twint.Config()\n",
        "c.Search=\"السعودية، عمرة \"\n",
        "c.Lang=\"ar\"\n",
        "c.Near =\"Saudi Arabia\" \n",
        "c.Geo=\"23.885942,45.079162,400km\"  \n",
        "c.Since=\"2021-05-17\"\n",
        "c.Until=\"2021-05-31\"\n",
        "c.Pandas= True \n",
        "c.Count = True\n",
        "c.Store_csv = True\n",
        "c.Output = \"vaccine_n5.csv\"\n",
        "twint.run.Search(c)"
      ],
      "execution_count": null,
      "outputs": []
    },
    {
      "cell_type": "code",
      "metadata": {
        "id": "7zSGbhFgwd-Z"
      },
      "source": [
        "#new\n",
        "c=twint.Config()\n",
        "c.Search=\"تطعيم، السعودية\"\n",
        "c.Lang=\"ar\"\n",
        "c.Geo=\"23.885942,45.079162,400km\" \n",
        "#c.Geo=\"24.896799257595838, 46.51669440192322,4000km\" #Riyadh \n",
        "c.Since=\"2021-05-10\"\n",
        "c.Until=\"2021-06-02\"\n",
        "c.Pandas= True \n",
        "c.Count = True\n",
        "c.Store_csv = True\n",
        "c.Output = \"vaccine_n7.csv\"\n",
        "twint.run.Search(c)"
      ],
      "execution_count": null,
      "outputs": []
    },
    {
      "cell_type": "code",
      "metadata": {
        "id": "rMWgE0fDwU3J"
      },
      "source": [
        "#new\n",
        "c=twint.Config()\n",
        "c.Search=\"لقاح\"\n",
        "c.Location=True\n",
        "c.Lang=\"ar\"\n",
        "c.Geo=\"23.885942,45.079162,400km\" \n",
        "c.Since=\"2021-05-10\"\n",
        "c.Until=\"2021-06-02\"\n",
        "c.Limit=200\n",
        "c.Pandas= True \n",
        "c.Count = True\n",
        "c.Store_csv = True\n",
        "c.Output = \"vaccine_n6.csv\"\n",
        "twint.run.Search(c)"
      ],
      "execution_count": null,
      "outputs": []
    },
    {
      "cell_type": "markdown",
      "metadata": {
        "id": "ZBzEd_J3Q_f-"
      },
      "source": [
        "# ~Vaccination against COVID-19 will be mandatory\n",
        "18/05/2021 - 01/06/2021"
      ]
    },
    {
      "cell_type": "code",
      "metadata": {
        "id": "rrdTAZUKj30e"
      },
      "source": [
        "#Done\n",
        "\n",
        "c.Search=\"التحصين, شرط\"\n",
        "c.Lang=\"ar\"\n",
        "#c.Custom_query=\"التحصين, شرط\"\n",
        "c.Since=\"2021-05-16\"\n",
        "#c.Until=\"2021-05-21\"\n",
        "#c.Since=\"2021-05-21\"\n",
        "c.Until=\"2021-06-01\"\n",
        "c.Geo=\"23.885942,45.079162,400km\" \n",
        "#c.Geo=\"23.571861501954036, 45.61214440937646,4000km\" #ksa \n",
        "#c.Geo=\"24.896799257595838, 46.51669440192322,4000km\" #Riyadh \n",
        "c.Pandas= True \n",
        "c.Store_csv = True\n",
        "c.Output = \"New_Vaccination1.csv\"#corrupted beacuse excel!\n",
        "twint.run.Search(c)"
      ],
      "execution_count": null,
      "outputs": []
    },
    {
      "cell_type": "markdown",
      "metadata": {
        "id": "Txnt4NKOo78v"
      },
      "source": [
        "New extracted data"
      ]
    },
    {
      "cell_type": "code",
      "metadata": {
        "id": "-YzcwvUptK8A"
      },
      "source": [
        "#done\n",
        "c=twint.Config()\n",
        "c.Search=\"لقاح , تحصين\"\n",
        "c.Lang=\"ar\"\n",
        "c.Since=\"2021-05-18\"\n",
        "#c.Until=\"2021-05-19\"\n",
        "#c.Since=\"2021-05-19\"\n",
        "c.Until=\"2021-06-01\"\n",
        "c.Geo=\"23.885942,45.079162,400km\" \n",
        "#c.Geo=\"23.571861501954036, 45.61214440937646,4000km\" #ksa \n",
        "#c.Geo=\"24.896799257595838, 46.51669440192322,4000km\" #Riyadh \n",
        "c.Pandas= True \n",
        "c.Count=True\n",
        "c.Store_csv = True\n",
        "c.Output = \"New_Vaccination2.csv\"\n",
        "twint.run.Search(c)"
      ],
      "execution_count": null,
      "outputs": []
    },
    {
      "cell_type": "code",
      "metadata": {
        "id": "ATKfzRGOtokC"
      },
      "source": [
        "#done\n",
        "c=twint.Config()\n",
        "c.Search=\"لقاح , شرط\"\n",
        "c.Lang=\"ar\"\n",
        "c.Since=\"2021-05-18\"\n",
        "#c.Until=\"2021-05-19\"\n",
        "#c.Since=\"2021-05-19\"\n",
        "c.Until=\"2021-06-01\"\n",
        "c.Geo=\"23.885942,45.079162,400km\" \n",
        "#c.Geo=\"23.571861501954036, 45.61214440937646,4000km\" #ksa \n",
        "#c.Geo=\"24.896799257595838, 46.51669440192322,4000km\" #Riyadh \n",
        "c.Pandas= True \n",
        "c.Count=True\n",
        "c.Store_csv = True\n",
        "c.Output = \"New_Vaccination3.csv\"\n",
        "twint.run.Search(c)"
      ],
      "execution_count": null,
      "outputs": []
    },
    {
      "cell_type": "code",
      "metadata": {
        "id": "jnLexNi5uhLw"
      },
      "source": [
        "#done\n",
        "c=twint.Config()\n",
        "c.Search=\"اشتراط , التحصين\"\n",
        "c.Lang=\"ar\"\n",
        "c.Since=\"2021-05-18\"\n",
        "#c.Until=\"2021-05-19\"\n",
        "#c.Since=\"2021-05-19\"\n",
        "c.Until=\"2021-06-01\"\n",
        "c.Geo=\"23.885942,45.079162,400km\" \n",
        "#c.Geo=\"23.571861501954036, 45.61214440937646,4000km\" #ksa \n",
        "#c.Geo=\"24.896799257595838, 46.51669440192322,4000km\" #Riyadh \n",
        "c.Pandas= True \n",
        "c.Store_csv = True\n",
        "c.Count=True\n",
        "c.Output = \"New_Vaccination4.csv\"\n",
        "twint.run.Search(c)"
      ],
      "execution_count": null,
      "outputs": []
    }
  ]
}