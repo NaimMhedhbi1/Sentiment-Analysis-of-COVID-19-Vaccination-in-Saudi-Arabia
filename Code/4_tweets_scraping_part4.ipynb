{
  "nbformat": 4,
  "nbformat_minor": 0,
  "metadata": {
    "colab": {
      "name": "4_tweets_scraping_part4.ipynb",
      "provenance": [],
      "authorship_tag": "ABX9TyNOp7CFI0WFaWLQaJiI+7CD"
    },
    "kernelspec": {
      "display_name": "Python 3",
      "name": "python3"
    },
    "language_info": {
      "name": "python"
    }
  },
  "cells": [
    {
      "cell_type": "markdown",
      "metadata": {
        "id": "Ex5shZb9kMYe"
      },
      "source": [
        "#تثبيت المكتبات"
      ]
    },
    {
      "cell_type": "code",
      "metadata": {
        "id": "EKOt3SrbeB95"
      },
      "source": [
        "!pip3 install twint"
      ],
      "execution_count": null,
      "outputs": []
    },
    {
      "cell_type": "code",
      "metadata": {
        "id": "njmVweeLeDGZ"
      },
      "source": [
        "!pip3 uninstall twint"
      ],
      "execution_count": null,
      "outputs": []
    },
    {
      "cell_type": "code",
      "metadata": {
        "id": "VsWfNlOceEt7"
      },
      "source": [
        "!pip3 install --upgrade git+https://github.com/twintproject/twint.git@origin/master#egg=twint"
      ],
      "execution_count": null,
      "outputs": []
    },
    {
      "cell_type": "code",
      "metadata": {
        "id": "_cxhlr-reHNL"
      },
      "source": [
        "pip install nest-asyncio"
      ],
      "execution_count": null,
      "outputs": []
    },
    {
      "cell_type": "code",
      "metadata": {
        "id": "tx9U7HoUeHul"
      },
      "source": [
        "import twint\n",
        "import nest_asyncio\n",
        "nest_asyncio.apply()\n",
        "import pandas as pd"
      ],
      "execution_count": null,
      "outputs": []
    },
    {
      "cell_type": "markdown",
      "metadata": {
        "id": "UncZ2461H3vE"
      },
      "source": [
        "* Saudi Arabia/Coordinates (lat,long,radius)- **23.8859° N, 45.0792° E**\n",
        "* \"23.885942,45.079162,400km\" \n",
        "* 400 km from the center of Saudi Arabia for each search"
      ]
    },
    {
      "cell_type": "markdown",
      "metadata": {
        "id": "lK7TbtHMLFu7"
      },
      "source": [
        "#تقييد العمرة"
      ]
    },
    {
      "cell_type": "code",
      "metadata": {
        "colab": {
          "base_uri": "https://localhost:8080/"
        },
        "id": "PSARGc8oKfX9",
        "outputId": "134e293c-351a-49aa-ab1d-7d39a81dd556"
      },
      "source": [
        "c=twint.Config()\n",
        "c.Search=\"العمرة,لقاح\"\n",
        "\n",
        "c.Lang=\"ar\"\n",
        "c.Since=\"2021-04-13\"\n",
        "c.Until=\"2021-04-27\"\n",
        "c.Geo=\"23.885942,45.079162,400km\" \n",
        "c.Pandas= True \n",
        "c.Store_csv = True\n",
        "c.Count=True\n",
        "c.Hide_output = True\n",
        "c.Output = \"omara-L1.csv\"\n",
        "twint.run.Search(c)"
      ],
      "execution_count": null,
      "outputs": [
        {
          "output_type": "stream",
          "text": [
            "[!] No more data! Scraping will stop now.\n",
            "found 0 deleted tweets in this search.\n",
            "[+] Finished: Successfully collected 3 Tweets.\n"
          ],
          "name": "stdout"
        }
      ]
    },
    {
      "cell_type": "code",
      "metadata": {
        "colab": {
          "base_uri": "https://localhost:8080/"
        },
        "id": "MQN0Tn6CLYxo",
        "outputId": "3ff8cfdd-98c1-4320-dd92-e0917c2d2c4c"
      },
      "source": [
        "c=twint.Config()\n",
        "c.Search=\"العمرة\"\n",
        "\n",
        "c.Lang=\"ar\"\n",
        "c.Since=\"2021-04-13\"\n",
        "c.Until=\"2021-04-27\"\n",
        "c.Geo=\"23.885942,45.079162,400km\" \n",
        "c.Pandas= True \n",
        "c.Store_csv = True\n",
        "c.Count=True\n",
        "c.Hide_output = True\n",
        "c.Output = \"omara-L2.csv\"\n",
        "twint.run.Search(c)"
      ],
      "execution_count": null,
      "outputs": [
        {
          "output_type": "stream",
          "text": [
            "[!] No more data! Scraping will stop now.\n",
            "found 0 deleted tweets in this search.\n",
            "[+] Finished: Successfully collected 253 Tweets.\n"
          ],
          "name": "stdout"
        }
      ]
    },
    {
      "cell_type": "code",
      "metadata": {
        "colab": {
          "base_uri": "https://localhost:8080/"
        },
        "id": "6Kw-0d7fLtfY",
        "outputId": "65caf3f1-25e6-41ff-a2f0-7757874cd6c5"
      },
      "source": [
        "c=twint.Config()\n",
        "c.Search=\"اللقاح\"\n",
        "\n",
        "c.Lang=\"ar\"\n",
        "c.Since=\"2021-04-13\"\n",
        "c.Until=\"2021-04-27\"\n",
        "c.Geo=\"23.885942,45.079162,400km\" \n",
        "c.Pandas= True \n",
        "c.Store_csv = True\n",
        "c.Count=True\n",
        "c.Hide_output = True\n",
        "c.Output = \"omara-L3.csv\"\n",
        "twint.run.Search(c)"
      ],
      "execution_count": null,
      "outputs": [
        {
          "output_type": "stream",
          "text": [
            "[!] No more data! Scraping will stop now.\n",
            "found 0 deleted tweets in this search.\n",
            "[+] Finished: Successfully collected 888 Tweets.\n"
          ],
          "name": "stdout"
        }
      ]
    },
    {
      "cell_type": "code",
      "metadata": {
        "colab": {
          "base_uri": "https://localhost:8080/"
        },
        "id": "LrWJD3NdMLfd",
        "outputId": "7fec6465-2bb0-4066-bf5f-01b2ad3d37d0"
      },
      "source": [
        "c=twint.Config()\n",
        "c.Search=\"العمرة,اللقاح\"\n",
        "\n",
        "c.Lang=\"ar\"\n",
        "c.Since=\"2021-04-13\"\n",
        "c.Until=\"2021-04-27\"\n",
        "c.Geo=\"23.885942,45.079162,400km\" \n",
        "c.Pandas= True \n",
        "c.Store_csv = True\n",
        "c.Count=True\n",
        "c.Hide_output = True\n",
        "c.Output = \"omara-L4.csv\"\n",
        "twint.run.Search(c)"
      ],
      "execution_count": null,
      "outputs": [
        {
          "output_type": "stream",
          "text": [
            "[!] No more data! Scraping will stop now.\n",
            "found 0 deleted tweets in this search.\n",
            "[+] Finished: Successfully collected 8 Tweets.\n"
          ],
          "name": "stdout"
        }
      ]
    },
    {
      "cell_type": "code",
      "metadata": {
        "colab": {
          "base_uri": "https://localhost:8080/"
        },
        "id": "7wg1OaAKMbvv",
        "outputId": "c82556c4-992c-4fe0-ebf0-37bb0f28821a"
      },
      "source": [
        "c=twint.Config()\n",
        "c.Search=\"العمرة,تطعيم\"\n",
        "\n",
        "c.Lang=\"ar\"\n",
        "c.Since=\"2021-04-13\"\n",
        "c.Until=\"2021-04-27\"\n",
        "c.Geo=\"23.885942,45.079162,400km\" \n",
        "c.Pandas= True \n",
        "c.Store_csv = True\n",
        "c.Count=True\n",
        "c.Hide_output = True\n",
        "c.Output = \"omara-L5.csv\"\n",
        "twint.run.Search(c)"
      ],
      "execution_count": null,
      "outputs": [
        {
          "output_type": "stream",
          "text": [
            "[!] No more data! Scraping will stop now.\n",
            "found 0 deleted tweets in this search.\n",
            "[+] Finished: Successfully collected 2 Tweets.\n"
          ],
          "name": "stdout"
        }
      ]
    },
    {
      "cell_type": "code",
      "metadata": {
        "colab": {
          "base_uri": "https://localhost:8080/"
        },
        "id": "E8XSFBF3Mrnm",
        "outputId": "8b0c0985-a965-4e57-e78a-d67dd66a1605"
      },
      "source": [
        "c=twint.Config()\n",
        "c.Search=\"العمرة,تحصين\"\n",
        "\n",
        "c.Lang=\"ar\"\n",
        "c.Since=\"2021-04-13\"\n",
        "c.Until=\"2021-04-27\"\n",
        "c.Geo=\"23.885942,45.079162,400km\" \n",
        "c.Pandas= True \n",
        "c.Store_csv = True\n",
        "c.Count=True\n",
        "c.Hide_output = True\n",
        "c.Output = \"omara-L6.csv\"\n",
        "twint.run.Search(c)"
      ],
      "execution_count": null,
      "outputs": [
        {
          "output_type": "stream",
          "text": [
            "[!] No more data! Scraping will stop now.\n",
            "found 0 deleted tweets in this search.\n",
            "[+] Finished: Successfully collected 0 Tweets.\n"
          ],
          "name": "stdout"
        }
      ]
    },
    {
      "cell_type": "code",
      "metadata": {
        "colab": {
          "base_uri": "https://localhost:8080/"
        },
        "id": "Ayu6-lpeM0h-",
        "outputId": "d52baed7-3f5a-4969-c5b4-42e9e77ac763"
      },
      "source": [
        "c=twint.Config()\n",
        "c.Search=\"العمرة,جرعة\"\n",
        "\n",
        "c.Lang=\"ar\"\n",
        "c.Since=\"2021-04-13\"\n",
        "c.Until=\"2021-04-27\"\n",
        "c.Geo=\"23.885942,45.079162,400km\" \n",
        "c.Pandas= True \n",
        "c.Store_csv = True\n",
        "c.Count=True\n",
        "c.Hide_output = True\n",
        "c.Output = \"omara-L7.csv\"\n",
        "twint.run.Search(c)"
      ],
      "execution_count": null,
      "outputs": [
        {
          "output_type": "stream",
          "text": [
            "[!] No more data! Scraping will stop now.\n",
            "found 0 deleted tweets in this search.\n",
            "[+] Finished: Successfully collected 5 Tweets.\n"
          ],
          "name": "stdout"
        }
      ]
    },
    {
      "cell_type": "code",
      "metadata": {
        "colab": {
          "base_uri": "https://localhost:8080/"
        },
        "id": "it4FI7nxM7zo",
        "outputId": "aa1daae9-c698-43fb-88de-dc429072270e"
      },
      "source": [
        "c=twint.Config()\n",
        "c.Search=\"لقاح\"\n",
        "\n",
        "c.Lang=\"ar\"\n",
        "c.Since=\"2021-04-13\"\n",
        "c.Until=\"2021-04-27\"\n",
        "c.Geo=\"23.885942,45.079162,400km\" \n",
        "c.Pandas= True \n",
        "c.Store_csv = True\n",
        "c.Count=True\n",
        "c.Hide_output = True\n",
        "c.Output = \"omara-L8.csv\"\n",
        "twint.run.Search(c)"
      ],
      "execution_count": null,
      "outputs": [
        {
          "output_type": "stream",
          "text": [
            "[!] No more data! Scraping will stop now.\n",
            "found 0 deleted tweets in this search.\n",
            "[+] Finished: Successfully collected 579 Tweets.\n"
          ],
          "name": "stdout"
        }
      ]
    },
    {
      "cell_type": "markdown",
      "metadata": {
        "id": "VyL7bSfJNJWj"
      },
      "source": [
        "#ارتفاع اصابات المتحور"
      ]
    },
    {
      "cell_type": "code",
      "metadata": {
        "colab": {
          "base_uri": "https://localhost:8080/"
        },
        "id": "CQ0iLdahNRWK",
        "outputId": "43526f8e-8c00-4a80-86e8-ccc4c01f1945"
      },
      "source": [
        "c=twint.Config()\n",
        "c.Search=\"متحور,لقاح\"\n",
        "\n",
        "c.Lang=\"ar\"\n",
        "c.Since=\"2021-04-15\"\n",
        "c.Until=\"2021-04-29\"\n",
        "c.Geo=\"23.885942,45.079162,400km\" \n",
        "c.Pandas= True \n",
        "c.Store_csv = True\n",
        "c.Count=True\n",
        "c.Hide_output = True\n",
        "c.Output = \"variant-L1.csv\"\n",
        "twint.run.Search(c)"
      ],
      "execution_count": null,
      "outputs": [
        {
          "output_type": "stream",
          "text": [
            "[!] No more data! Scraping will stop now.\n",
            "found 0 deleted tweets in this search.\n",
            "[+] Finished: Successfully collected 0 Tweets.\n"
          ],
          "name": "stdout"
        }
      ]
    },
    {
      "cell_type": "code",
      "metadata": {
        "colab": {
          "base_uri": "https://localhost:8080/"
        },
        "id": "jJCNv8esNotC",
        "outputId": "6a62901d-891d-47d7-81f9-4d4a6581e439"
      },
      "source": [
        "c=twint.Config()\n",
        "c.Search=\"متحور,تطعيم\"\n",
        "\n",
        "c.Lang=\"ar\"\n",
        "c.Since=\"2021-04-15\"\n",
        "c.Until=\"2021-04-29\"\n",
        "c.Geo=\"23.885942,45.079162,400km\" \n",
        "c.Pandas= True \n",
        "c.Store_csv = True\n",
        "c.Count=True\n",
        "c.Hide_output = True\n",
        "c.Output = \"variant-L2.csv\"\n",
        "twint.run.Search(c)"
      ],
      "execution_count": null,
      "outputs": [
        {
          "output_type": "stream",
          "text": [
            "[!] No more data! Scraping will stop now.\n",
            "found 0 deleted tweets in this search.\n",
            "[+] Finished: Successfully collected 0 Tweets.\n"
          ],
          "name": "stdout"
        }
      ]
    },
    {
      "cell_type": "code",
      "metadata": {
        "colab": {
          "base_uri": "https://localhost:8080/"
        },
        "id": "jhVr4qAiNtMy",
        "outputId": "84a60b3b-72bb-4c2c-d8f1-dac44a372fce"
      },
      "source": [
        "c=twint.Config()\n",
        "c.Search=\"متحور,جرعة\"\n",
        "\n",
        "c.Lang=\"ar\"\n",
        "c.Since=\"2021-04-15\"\n",
        "c.Until=\"2021-04-29\"\n",
        "c.Geo=\"23.885942,45.079162,400km\" \n",
        "c.Pandas= True \n",
        "c.Store_csv = True\n",
        "c.Count=True\n",
        "c.Hide_output = True\n",
        "c.Output = \"variant-L3.csv\"\n",
        "twint.run.Search(c)"
      ],
      "execution_count": null,
      "outputs": [
        {
          "output_type": "stream",
          "text": [
            "[!] No more data! Scraping will stop now.\n",
            "found 0 deleted tweets in this search.\n",
            "[+] Finished: Successfully collected 0 Tweets.\n"
          ],
          "name": "stdout"
        }
      ]
    },
    {
      "cell_type": "code",
      "metadata": {
        "colab": {
          "base_uri": "https://localhost:8080/"
        },
        "id": "QWSz-jZoN3L7",
        "outputId": "53be5204-b23a-42b5-cd59-ceb232c475f0"
      },
      "source": [
        "c=twint.Config()\n",
        "c.Search=\"المتحور,اللقاح\"\n",
        "\n",
        "c.Lang=\"ar\"\n",
        "c.Since=\"2021-04-15\"\n",
        "c.Until=\"2021-04-29\"\n",
        "c.Geo=\"23.885942,45.079162,400km\" \n",
        "c.Pandas= True \n",
        "c.Store_csv = True\n",
        "c.Count=True\n",
        "c.Hide_output = True\n",
        "c.Output = \"variant-L4.csv\"\n",
        "twint.run.Search(c)"
      ],
      "execution_count": null,
      "outputs": [
        {
          "output_type": "stream",
          "text": [
            "[!] No more data! Scraping will stop now.\n",
            "found 0 deleted tweets in this search.\n",
            "[+] Finished: Successfully collected 2 Tweets.\n"
          ],
          "name": "stdout"
        }
      ]
    },
    {
      "cell_type": "code",
      "metadata": {
        "colab": {
          "base_uri": "https://localhost:8080/"
        },
        "id": "0x5YtWmNN9OS",
        "outputId": "24f12e3d-2bc3-4b99-b50c-3e06d7aaf24d"
      },
      "source": [
        "c=twint.Config()\n",
        "c.Search=\"المتحور,كورونا,لقاح\"\n",
        "c.Custom_query=\"المتحور,كورونا,لقاح\"\n",
        "c.Lang=\"ar\"\n",
        "c.Since=\"2021-04-15\"\n",
        "c.Until=\"2021-04-29\"\n",
        "c.Geo=\"23.885942,45.079162,400km\" \n",
        "c.Pandas= True \n",
        "c.Store_csv = True\n",
        "c.Count=True\n",
        "c.Hide_output = True\n",
        "c.Output = \"variant-L5.csv\"\n",
        "twint.run.Search(c)"
      ],
      "execution_count": null,
      "outputs": [
        {
          "output_type": "stream",
          "text": [
            "[!] No more data! Scraping will stop now.\n",
            "found 0 deleted tweets in this search.\n",
            "[+] Finished: Successfully collected 1061 Tweets.\n"
          ],
          "name": "stdout"
        }
      ]
    },
    {
      "cell_type": "code",
      "metadata": {
        "colab": {
          "base_uri": "https://localhost:8080/"
        },
        "id": "X7w9cyXuOlC0",
        "outputId": "3e2d0c51-42c2-49d8-ed39-4c9b1ea2da3f"
      },
      "source": [
        "c=twint.Config()\n",
        "c.Search=\"لقاح\"\n",
        "c.Lang=\"ar\"\n",
        "c.Since=\"2021-04-15\"\n",
        "c.Until=\"2021-04-29\"\n",
        "c.Geo=\"23.885942,45.079162,400km\" \n",
        "c.Pandas= True \n",
        "c.Store_csv = True\n",
        "c.Count=True\n",
        "c.Hide_output = True\n",
        "c.Output = \"variant-L6.csv\"\n",
        "twint.run.Search(c)"
      ],
      "execution_count": null,
      "outputs": [
        {
          "output_type": "stream",
          "text": [
            "[!] No more data! Scraping will stop now.\n",
            "found 0 deleted tweets in this search.\n",
            "[+] Finished: Successfully collected 565 Tweets.\n"
          ],
          "name": "stdout"
        }
      ]
    },
    {
      "cell_type": "code",
      "metadata": {
        "colab": {
          "base_uri": "https://localhost:8080/"
        },
        "id": "slXhET9gPClq",
        "outputId": "09b4ff47-3362-453c-f31d-5ead7384b383"
      },
      "source": [
        "c=twint.Config()\n",
        "c.Search=\"اللقاح\"\n",
        "c.Lang=\"ar\"\n",
        "c.Since=\"2021-04-15\"\n",
        "c.Until=\"2021-04-29\"\n",
        "c.Geo=\"23.885942,45.079162,400km\" \n",
        "c.Pandas= True \n",
        "c.Store_csv = True\n",
        "c.Count=True\n",
        "c.Hide_output = True\n",
        "c.Output = \"variant-L7.csv\"\n",
        "twint.run.Search(c)"
      ],
      "execution_count": null,
      "outputs": [
        {
          "output_type": "stream",
          "text": [
            "[!] No more data! Scraping will stop now.\n",
            "found 0 deleted tweets in this search.\n",
            "[+] Finished: Successfully collected 848 Tweets.\n"
          ],
          "name": "stdout"
        }
      ]
    },
    {
      "cell_type": "markdown",
      "metadata": {
        "id": "2a971O7nPI4C"
      },
      "source": [
        "#بيان رفع تعليق السفر"
      ]
    },
    {
      "cell_type": "code",
      "metadata": {
        "colab": {
          "base_uri": "https://localhost:8080/"
        },
        "id": "yxNTi_4DPTTg",
        "outputId": "a6e2e3e8-24f1-4494-9d96-e9a42cc224ab"
      },
      "source": [
        "c=twint.Config()\n",
        "c.Search=\"السفر,اللقاح\"\n",
        "c.Lang=\"ar\"\n",
        "c.Since=\"2021-05-02\"\n",
        "c.Until=\"2021-05-16\"\n",
        "c.Geo=\"23.885942,45.079162,400km\" \n",
        "c.Pandas= True \n",
        "c.Store_csv = True\n",
        "c.Count=True\n",
        "c.Hide_output = True\n",
        "c.Output = \"anounc-L1.csv\"\n",
        "twint.run.Search(c)"
      ],
      "execution_count": null,
      "outputs": [
        {
          "output_type": "stream",
          "text": [
            "[!] No more data! Scraping will stop now.\n",
            "found 0 deleted tweets in this search.\n",
            "[+] Finished: Successfully collected 44 Tweets.\n"
          ],
          "name": "stdout"
        }
      ]
    },
    {
      "cell_type": "code",
      "metadata": {
        "colab": {
          "base_uri": "https://localhost:8080/"
        },
        "id": "7SpAuIKwP4Ux",
        "outputId": "90b08a4a-7017-482a-fb2d-71aebd63c98a"
      },
      "source": [
        "c=twint.Config()\n",
        "c.Search=\"السفر,لقاح\"\n",
        "c.Lang=\"ar\"\n",
        "c.Since=\"2021-05-02\"\n",
        "c.Until=\"2021-05-16\"\n",
        "c.Geo=\"23.885942,45.079162,400km\" \n",
        "c.Pandas= True \n",
        "c.Store_csv = True\n",
        "c.Count=True\n",
        "c.Hide_output = True\n",
        "c.Output = \"anounc-L2.csv\"\n",
        "twint.run.Search(c)"
      ],
      "execution_count": null,
      "outputs": [
        {
          "output_type": "stream",
          "text": [
            "[!] No more data! Scraping will stop now.\n",
            "found 0 deleted tweets in this search.\n",
            "[+] Finished: Successfully collected 5 Tweets.\n"
          ],
          "name": "stdout"
        }
      ]
    },
    {
      "cell_type": "code",
      "metadata": {
        "colab": {
          "base_uri": "https://localhost:8080/"
        },
        "id": "2i5Eol4jP9Mf",
        "outputId": "9b6fd450-040e-46d0-c00f-c19f1d2038cc"
      },
      "source": [
        "c=twint.Config()\n",
        "c.Search=\"السفر,جرعة\"\n",
        "c.Lang=\"ar\"\n",
        "c.Since=\"2021-05-02\"\n",
        "c.Until=\"2021-05-16\"\n",
        "c.Geo=\"23.885942,45.079162,400km\" \n",
        "c.Pandas= True \n",
        "c.Store_csv = True\n",
        "c.Count=True\n",
        "c.Hide_output = True\n",
        "c.Output = \"anounc-L3.csv\"\n",
        "twint.run.Search(c)"
      ],
      "execution_count": null,
      "outputs": [
        {
          "output_type": "stream",
          "text": [
            "[!] No more data! Scraping will stop now.\n",
            "found 0 deleted tweets in this search.\n",
            "[+] Finished: Successfully collected 7 Tweets.\n"
          ],
          "name": "stdout"
        }
      ]
    },
    {
      "cell_type": "code",
      "metadata": {
        "colab": {
          "base_uri": "https://localhost:8080/"
        },
        "id": "ul8hD23RQAtF",
        "outputId": "12a8f307-b5d9-4a4a-ce35-47eb76c04880"
      },
      "source": [
        "c=twint.Config()\n",
        "c.Search=\"السفر,تطعيم\"\n",
        "c.Lang=\"ar\"\n",
        "c.Since=\"2021-05-02\"\n",
        "c.Until=\"2021-05-16\"\n",
        "c.Geo=\"23.885942,45.079162,400km\" \n",
        "c.Pandas= True \n",
        "c.Store_csv = True\n",
        "c.Count=True\n",
        "c.Hide_output = True\n",
        "c.Output = \"anounc-L4.csv\"\n",
        "twint.run.Search(c)"
      ],
      "execution_count": null,
      "outputs": [
        {
          "output_type": "stream",
          "text": [
            "[!] No more data! Scraping will stop now.\n",
            "found 0 deleted tweets in this search.\n",
            "[+] Finished: Successfully collected 2 Tweets.\n"
          ],
          "name": "stdout"
        }
      ]
    },
    {
      "cell_type": "code",
      "metadata": {
        "colab": {
          "base_uri": "https://localhost:8080/"
        },
        "id": "LX9k-Vp2QGzV",
        "outputId": "266b2469-9e9c-4a7e-cbd9-2568c72aa9a3"
      },
      "source": [
        "c=twint.Config()\n",
        "c.Search=\"لقاح\"\n",
        "c.Lang=\"ar\"\n",
        "c.Since=\"2021-05-02\"\n",
        "c.Until=\"2021-05-16\"\n",
        "c.Geo=\"23.885942,45.079162,400km\" \n",
        "c.Pandas= True \n",
        "c.Store_csv = True\n",
        "c.Count=True\n",
        "c.Hide_output = True\n",
        "c.Output = \"anounc-L5.csv\"\n",
        "twint.run.Search(c)"
      ],
      "execution_count": null,
      "outputs": [
        {
          "output_type": "stream",
          "text": [
            "[!] No more data! Scraping will stop now.\n",
            "found 0 deleted tweets in this search.\n",
            "[+] Finished: Successfully collected 237 Tweets.\n"
          ],
          "name": "stdout"
        }
      ]
    },
    {
      "cell_type": "code",
      "metadata": {
        "colab": {
          "base_uri": "https://localhost:8080/"
        },
        "id": "5FdEHvSOQVjE",
        "outputId": "53e1fa1e-924c-4322-d61d-c9124682a440"
      },
      "source": [
        "c=twint.Config()\n",
        "c.Search=\"اللقاح\"\n",
        "c.Lang=\"ar\"\n",
        "c.Since=\"2021-05-02\"\n",
        "c.Until=\"2021-05-16\"\n",
        "c.Geo=\"23.885942,45.079162,400km\" \n",
        "c.Pandas= True \n",
        "c.Store_csv = True\n",
        "c.Count=True\n",
        "c.Hide_output = True\n",
        "c.Output = \"anounc-L6.csv\"\n",
        "twint.run.Search(c)"
      ],
      "execution_count": null,
      "outputs": [
        {
          "output_type": "stream",
          "text": [
            "[!] No more data! Scraping will stop now.\n",
            "found 0 deleted tweets in this search.\n",
            "[+] Finished: Successfully collected 604 Tweets.\n"
          ],
          "name": "stdout"
        }
      ]
    },
    {
      "cell_type": "code",
      "metadata": {
        "colab": {
          "base_uri": "https://localhost:8080/"
        },
        "id": "BLeVlALgQbGF",
        "outputId": "2ea5e736-9a7b-42f8-95c8-e89ea572138d"
      },
      "source": [
        "c=twint.Config()\n",
        "c.Search=\"تطعيم\"\n",
        "c.Lang=\"ar\"\n",
        "c.Since=\"2021-05-02\"\n",
        "c.Until=\"2021-05-16\"\n",
        "c.Geo=\"23.885942,45.079162,400km\" \n",
        "c.Pandas= True \n",
        "c.Store_csv = True\n",
        "c.Count=True\n",
        "c.Hide_output = True\n",
        "c.Output = \"anounc-L7.csv\"\n",
        "twint.run.Search(c)"
      ],
      "execution_count": null,
      "outputs": [
        {
          "output_type": "stream",
          "text": [
            "[!] No more data! Scraping will stop now.\n",
            "found 0 deleted tweets in this search.\n",
            "[+] Finished: Successfully collected 52 Tweets.\n"
          ],
          "name": "stdout"
        }
      ]
    },
    {
      "cell_type": "markdown",
      "metadata": {
        "id": "dQ401RDbRNYC"
      },
      "source": [
        "# كلمات عامة \n",
        "* لفترة الاحداث المذكورة اعلاه جميعها\n",
        "* 25-03-2021 - 03-05-2021"
      ]
    },
    {
      "cell_type": "code",
      "metadata": {
        "id": "x8aAdwmzRMkB",
        "colab": {
          "base_uri": "https://localhost:8080/"
        },
        "outputId": "b5f5bced-9067-4b11-b2d8-6e25f53c8192"
      },
      "source": [
        "c=twint.Config()\n",
        "c.Search=\"لقاح\"\n",
        "c.Lang=\"ar\"\n",
        "c.Since=\"2021-03-25\"\n",
        "c.Until=\"2021-05-03\"\n",
        "c.Geo=\"23.885942,45.079162,400km\" \n",
        "c.Pandas= True \n",
        "c.Store_csv = True\n",
        "c.Count=True\n",
        "c.Hide_output = True\n",
        "c.Output = \"genk-L1.csv\"\n",
        "twint.run.Search(c)# i got the file but it shows an error becuse it is too large amount of data! need to split the period "
      ],
      "execution_count": null,
      "outputs": [
        {
          "output_type": "stream",
          "text": [
            "[!] No more data! Scraping will stop now.\n",
            "found 0 deleted tweets in this search.\n",
            "[+] Finished: Successfully collected 1545 Tweets.\n"
          ],
          "name": "stdout"
        }
      ]
    },
    {
      "cell_type": "code",
      "metadata": {
        "colab": {
          "base_uri": "https://localhost:8080/"
        },
        "id": "D4khJ3JSRuOb",
        "outputId": "b213b2a0-686a-4d2d-ba40-04434ee62a70"
      },
      "source": [
        "c=twint.Config()\n",
        "c.Search=\"اللقاح\"\n",
        "c.Lang=\"ar\"\n",
        "c.Since=\"2021-03-25\"\n",
        "c.Until=\"2021-05-03\"\n",
        "c.Geo=\"23.885942,45.079162,400km\" \n",
        "c.Pandas= True \n",
        "c.Store_csv = True\n",
        "c.Count=True\n",
        "c.Hide_output = True\n",
        "c.Output = \"genk-L2.csv\"\n",
        "twint.run.Search(c) #need to split the period"
      ],
      "execution_count": null,
      "outputs": [
        {
          "output_type": "stream",
          "text": [
            "[!] No more data! Scraping will stop now.\n",
            "found 0 deleted tweets in this search.\n",
            "[+] Finished: Successfully collected 2693 Tweets.\n"
          ],
          "name": "stdout"
        }
      ]
    },
    {
      "cell_type": "code",
      "metadata": {
        "id": "HtPigSUjRxcm",
        "colab": {
          "base_uri": "https://localhost:8080/"
        },
        "outputId": "5c4fa788-5afe-438b-b970-0cd6909177b6"
      },
      "source": [
        "#i did not run this part\n",
        "c=twint.Config()\n",
        "c.Search=\"تطعيم\"\n",
        "c.Lang=\"ar\"\n",
        "c.Since=\"2021-03-25\"\n",
        "c.Until=\"2021-05-03\"\n",
        "c.Geo=\"23.885942,45.079162,400km\" \n",
        "c.Pandas= True \n",
        "c.Store_csv = True\n",
        "c.Count=True\n",
        "c.Hide_output = True\n",
        "c.Output = \"genk-L3.csv\"\n",
        "twint.run.Search(c)"
      ],
      "execution_count": null,
      "outputs": [
        {
          "output_type": "stream",
          "text": [
            "[!] No more data! Scraping will stop now.\n",
            "found 0 deleted tweets in this search.\n",
            "[+] Finished: Successfully collected 243 Tweets.\n"
          ],
          "name": "stdout"
        }
      ]
    }
  ]
}