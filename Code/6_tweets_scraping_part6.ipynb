{
  "nbformat": 4,
  "nbformat_minor": 0,
  "metadata": {
    "colab": {
      "name": "6_tweets_scraping_part6.ipynb.ipynb",
      "provenance": [],
      "collapsed_sections": [],
      "authorship_tag": "ABX9TyM19MdGgXQVF7LIY6Br9lVi"
    },
    "kernelspec": {
      "display_name": "Python 3",
      "name": "python3"
    },
    "language_info": {
      "name": "python"
    }
  },
  "cells": [
    {
      "cell_type": "markdown",
      "metadata": {
        "id": "Ex5shZb9kMYe"
      },
      "source": [
        "#تثبيت المكتبات"
      ]
    },
    {
      "cell_type": "code",
      "metadata": {
        "id": "EKOt3SrbeB95"
      },
      "source": [
        "!pip3 install twint"
      ],
      "execution_count": null,
      "outputs": []
    },
    {
      "cell_type": "code",
      "metadata": {
        "id": "njmVweeLeDGZ"
      },
      "source": [
        "!pip3 uninstall twint"
      ],
      "execution_count": null,
      "outputs": []
    },
    {
      "cell_type": "code",
      "metadata": {
        "id": "VsWfNlOceEt7"
      },
      "source": [
        "!pip3 install --upgrade git+https://github.com/twintproject/twint.git@origin/master#egg=twint"
      ],
      "execution_count": null,
      "outputs": []
    },
    {
      "cell_type": "code",
      "metadata": {
        "id": "_cxhlr-reHNL"
      },
      "source": [
        "pip install nest-asyncio"
      ],
      "execution_count": null,
      "outputs": []
    },
    {
      "cell_type": "code",
      "metadata": {
        "id": "tx9U7HoUeHul"
      },
      "source": [
        "import twint\n",
        "import nest_asyncio\n",
        "nest_asyncio.apply()\n",
        "import pandas as pd\n",
        "c=twint.Config()"
      ],
      "execution_count": null,
      "outputs": []
    },
    {
      "cell_type": "markdown",
      "metadata": {
        "id": "UncZ2461H3vE"
      },
      "source": [
        "* \"23.571861501954036, 45.61214440937646,200km\" \n",
        "* \"23.885942,45.079162,400km\" \n",
        "* 200 km from the center of Saudi Arabia for each search"
      ]
    },
    {
      "cell_type": "markdown",
      "metadata": {
        "id": "iNU7jtsCjFfn"
      },
      "source": [
        "#الهندي"
      ]
    },
    {
      "cell_type": "code",
      "metadata": {
        "id": "QsFQTboGeR2m"
      },
      "source": [
        "c.Search=\"المتحور,الهندي,لقاح\"\n",
        "#c.Custom_query=\"المتحور,الهندي,لقاح\"\n",
        "c.Lang=\"ar\"\n",
        "c.Since=\"2021-03-25\"\n",
        "c.Until=\"2021-04-08\"\n",
        "c.Geo=\"23.571861501954036, 45.61214440937646,300km\" \n",
        "c.Pandas= True \n",
        "c.Store_csv = True\n",
        "c.Count=True\n",
        "c.Hide_output = True\n",
        "c.Output = \"trans-1.csv\"\n",
        "twint.run.Search(c)\n"
      ],
      "execution_count": null,
      "outputs": []
    },
    {
      "cell_type": "code",
      "metadata": {
        "colab": {
          "base_uri": "https://localhost:8080/"
        },
        "id": "5rWTm78AhHjz",
        "outputId": "25429720-e3f9-4e84-8a3d-a6b2440e3bee"
      },
      "source": [
        "c.Search=\"المتحور,الهندي,تطعيم\"\n",
        "c.Custom_query=\"المتحور,الهندي,تطعيم\"\n",
        "c.Lang=\"ar\"\n",
        "c.Since=\"2021-03-25\"\n",
        "c.Until=\"2021-04-08\"\n",
        "c.Geo=\"23.885942,45.079162,300km\" \n",
        "c.Pandas= True \n",
        "c.Store_csv = True\n",
        "c.Count=True\n",
        "c.Hide_output = True\n",
        "c.Output = \"trans-1v2.csv\"\n",
        "twint.run.Search(c)"
      ],
      "execution_count": null,
      "outputs": [
        {
          "output_type": "stream",
          "text": [
            "[!] No more data! Scraping will stop now.\n",
            "found 0 deleted tweets in this search.\n",
            "[+] Finished: Successfully collected 309 Tweets.\n"
          ],
          "name": "stdout"
        }
      ]
    },
    {
      "cell_type": "code",
      "metadata": {
        "colab": {
          "base_uri": "https://localhost:8080/"
        },
        "id": "e9ypMOxHhqj_",
        "outputId": "4dedecdb-4266-407b-de53-2e1f9eae6c49"
      },
      "source": [
        "c.Search=\"المتحور,الهندي,جرعة\"\n",
        "c.Custom_query=\"المتحور,الهندي,جرعة\"\n",
        "c.Lang=\"ar\"\n",
        "c.Since=\"2021-03-25\"\n",
        "c.Until=\"2021-04-08\"\n",
        "c.Geo=\"23.885942,45.079162,300km\" \n",
        "c.Pandas= True \n",
        "c.Store_csv = True\n",
        "c.Count=True\n",
        "c.Hide_output = True\n",
        "c.Output = \"trans-1v3.csv\"\n",
        "twint.run.Search(c)"
      ],
      "execution_count": null,
      "outputs": [
        {
          "output_type": "stream",
          "text": [
            "[!] No more data! Scraping will stop now.\n",
            "found 0 deleted tweets in this search.\n",
            "[+] Finished: Successfully collected 212 Tweets.\n"
          ],
          "name": "stdout"
        }
      ]
    },
    {
      "cell_type": "code",
      "metadata": {
        "id": "U127Dn4XjI6-"
      },
      "source": [
        "c.Search=\"المتحور,لقاح\"\n",
        "c.Custom_query=\"المتحور,لقاح\"\n",
        "c.Lang=\"ar\"\n",
        "c.Since=\"2021-03-25\"\n",
        "c.Until=\"2021-04-08\"\n",
        "c.Geo=\"23.571861501954036, 45.61214440937646,200km\" \n",
        "c.Pandas= True \n",
        "c.Store_csv = True\n",
        "c.Count=True\n",
        "c.Hide_output = True\n",
        "c.Output = \"trans-1v4.csv\"\n",
        "twint.run.Search(c)"
      ],
      "execution_count": null,
      "outputs": []
    },
    {
      "cell_type": "code",
      "metadata": {
        "id": "laheK4_X7WIw"
      },
      "source": [
        "c.Search=\"لقاح\"\n",
        "c.Lang=\"ar\"\n",
        "c.Since=\"2021-03-25\"\n",
        "c.Until=\"2021-04-08\"\n",
        "c.Geo=\"23.571861501954036, 45.61214440937646,200km\" \n",
        "c.Pandas= True \n",
        "c.Store_csv = True\n",
        "c.Count=True\n",
        "c.Hide_output = True\n",
        "c.Output = \"trans-1v5.csv\"\n",
        "twint.run.Search(c)"
      ],
      "execution_count": null,
      "outputs": []
    },
    {
      "cell_type": "markdown",
      "metadata": {
        "id": "fi2tWdw2jAZX"
      },
      "source": [
        "#البريطاني "
      ]
    },
    {
      "cell_type": "code",
      "metadata": {
        "id": "Ygx54nO6fUkJ"
      },
      "source": [
        "c.Search=\"المتحور,البريطاني,لقاح\"\n",
        "c.Custom_query=\"المتحور,البريطاني,لقاح\"\n",
        "c.Lang=\"ar\"\n",
        "c.Since=\"2020-12-25\"\n",
        "c.Until=\"2021-01-08\"\n",
        "c.Geo=\"23.571861501954036, 45.61214440937646,200km\" #ksa\n",
        "c.Pandas= True \n",
        "c.Store_csv = True\n",
        "c.Count=True\n",
        "#c.Hide_output = True\n",
        "c.Output = \"trans-2.csv\"\n",
        "twint.run.Search(c)"
      ],
      "execution_count": null,
      "outputs": []
    },
    {
      "cell_type": "code",
      "metadata": {
        "id": "H-y1IRxKhS8b"
      },
      "source": [
        "c.Search=\"المتحور,البريطاني,تطعيم\"\n",
        "c.Custom_query=\"المتحور,البريطاني,تطعيم\"\n",
        "c.Lang=\"ar\"\n",
        "c.Since=\"2020-12-25\"\n",
        "c.Until=\"2021-01-08\"\n",
        "c.Geo=\"23.571861501954036, 45.61214440937646,200km\" #ksa\n",
        "c.Pandas= True \n",
        "c.Store_csv = True\n",
        "c.Count=True\n",
        "c.Hide_output = True\n",
        "c.Output = \"trans-2v2.csv\"\n",
        "twint.run.Search(c)"
      ],
      "execution_count": null,
      "outputs": []
    },
    {
      "cell_type": "code",
      "metadata": {
        "id": "KE3o8qrpJQUM"
      },
      "source": [
        "c.Search=\"المتحور,البريطاني,جرعة\"\n",
        "c.Custom_query=\"المتحور,البريطاني,جرعة\"\n",
        "c.Lang=\"ar\"\n",
        "c.Since=\"2020-12-25\"\n",
        "c.Until=\"2021-01-08\"\n",
        "c.Geo=\"23.571861501954036, 45.61214440937646,200km\" #ksa\n",
        "c.Pandas= True \n",
        "c.Store_csv = True\n",
        "c.Count=True\n",
        "c.Hide_output = True\n",
        "c.Output = \"trans-2v7.csv\"\n",
        "twint.run.Search(c)"
      ],
      "execution_count": null,
      "outputs": []
    },
    {
      "cell_type": "code",
      "metadata": {
        "id": "DNORwuDOh5qz"
      },
      "source": [
        "c.Search=\"البريطاني,لقاح,جرعة\"\n",
        "c.Custom_query=\"البريطاني,لقاح,جرعة\"\n",
        "c.Lang=\"ar\"\n",
        "c.Since=\"2020-12-25\"\n",
        "c.Until=\"2021-01-08\"\n",
        "c.Geo=\"23.571861501954036, 45.61214440937646,200km\" #ksa\n",
        "c.Pandas= True \n",
        "c.Store_csv = True\n",
        "c.Count=True\n",
        "c.Hide_output = True\n",
        "c.Output = \"trans-2v3.csv\"\n",
        "twint.run.Search(c)"
      ],
      "execution_count": null,
      "outputs": []
    },
    {
      "cell_type": "code",
      "metadata": {
        "id": "06Qv46pTjVuF"
      },
      "source": [
        "c.Search=\"المتحورات,لقاح\"\n",
        "c.Custom_query=\"المتحورات,لقاح\"\n",
        "c.Lang=\"ar\"\n",
        "c.Since=\"2020-12-25\"\n",
        "c.Until=\"2021-01-08\"\n",
        "c.Geo=\"23.571861501954036, 45.61214440937646,200km\" #ksa\n",
        "c.Pandas= True \n",
        "c.Store_csv = True\n",
        "c.Count=True\n",
        "#c.Hide_output = True\n",
        "c.Output = \"trans-2v4.csv\"\n",
        "twint.run.Search(c)"
      ],
      "execution_count": null,
      "outputs": []
    },
    {
      "cell_type": "code",
      "metadata": {
        "id": "6FWavvuAju9l"
      },
      "source": [
        "c.Search=\"المتحورات,تطعيم\"\n",
        "c.Custom_query=\"المتحورات,تطعيم\"\n",
        "c.Lang=\"ar\"\n",
        "c.Since=\"2020-12-25\"\n",
        "c.Until=\"2021-01-08\"\n",
        "c.Geo=\"23.571861501954036, 45.61214440937646,200km\" #ksa\n",
        "c.Pandas= True \n",
        "c.Store_csv = True\n",
        "c.Count=True\n",
        "#c.Hide_output = True\n",
        "c.Output = \"trans-2v5.csv\"\n",
        "twint.run.Search(c)"
      ],
      "execution_count": null,
      "outputs": []
    },
    {
      "cell_type": "code",
      "metadata": {
        "id": "p-UfoQO8j4Vi"
      },
      "source": [
        "c.Search=\"لقاح\"\n",
        "c.Lang=\"ar\"\n",
        "c.Since=\"2020-12-25\"\n",
        "c.Until=\"2021-01-08\"\n",
        "c.Geo=\"23.571861501954036, 45.61214440937646,200km\" #ksa\n",
        "c.Pandas= True \n",
        "c.Store_csv = True\n",
        "c.Count=True\n",
        "c.Hide_output = True\n",
        "c.Output = \"trans-2v6.csv\"\n",
        "twint.run.Search(c)"
      ],
      "execution_count": null,
      "outputs": []
    },
    {
      "cell_type": "markdown",
      "metadata": {
        "id": "qr8tiwKXi8YC"
      },
      "source": [
        "#الفيتنامي"
      ]
    },
    {
      "cell_type": "code",
      "metadata": {
        "id": "OwTmfyTvgk3g"
      },
      "source": [
        "c.Search=\"المتحور,الفيتنامي,لقاح\"\n",
        "c.Custom_query=\"المتحور,الفيتنامي,لقاح\"\n",
        "c.Lang=\"ar\"\n",
        "c.Since=\"2021-06-04\"\n",
        "c.Until=\"2021-06-18\"\n",
        "c.Geo=\"23.571861501954036, 45.61214440937646,200km\" #ksa\n",
        "c.Pandas= True \n",
        "c.Store_csv = True\n",
        "c.Count=True\n",
        "c.Hide_output = True\n",
        "c.Output = \"trans-3.csv\"\n",
        "twint.run.Search(c)"
      ],
      "execution_count": null,
      "outputs": []
    },
    {
      "cell_type": "code",
      "metadata": {
        "id": "k_QEmf99hcQ2"
      },
      "source": [
        "c.Search=\"المتحور,الفيتنامي,جرعة\"\n",
        "c.Custom_query=\"المتحور,الفيتنامي,جرعة\"\n",
        "c.Lang=\"ar\"\n",
        "c.Since=\"2021-06-04\"\n",
        "c.Until=\"2021-06-18\"\n",
        "c.Geo=\"23.571861501954036, 45.61214440937646,200km\" #ksa\n",
        "c.Pandas= True \n",
        "c.Store_csv = True\n",
        "c.Count=True\n",
        "c.Hide_output = True\n",
        "c.Output = \"trans-3v2.csv\"\n",
        "twint.run.Search(c)"
      ],
      "execution_count": null,
      "outputs": []
    },
    {
      "cell_type": "code",
      "metadata": {
        "id": "v55eqY5xKBSw"
      },
      "source": [
        "c.Search=\"المتحور,الفيتنامي,تطعيم\"\n",
        "c.Custom_query=\"المتحور,الفيتنامي,تطعيم\"\n",
        "c.Lang=\"ar\"\n",
        "c.Since=\"2021-06-04\"\n",
        "c.Until=\"2021-06-18\"\n",
        "c.Geo=\"23.571861501954036, 45.61214440937646,200km\" #ksa\n",
        "c.Pandas= True \n",
        "c.Store_csv = True\n",
        "c.Count=True\n",
        "c.Hide_output = True\n",
        "c.Output = \"trans-3v6.csv\"\n",
        "twint.run.Search(c)"
      ],
      "execution_count": null,
      "outputs": []
    },
    {
      "cell_type": "code",
      "metadata": {
        "id": "Q2t1EIESimAp"
      },
      "source": [
        "c.Search=\"المتحور,لقاح\"\n",
        "c.Custom_query=\"المتحور,لقاح\"\n",
        "c.Lang=\"ar\"\n",
        "c.Since=\"2021-06-04\"\n",
        "c.Until=\"2021-06-18\"\n",
        "c.Geo=\"23.571861501954036, 45.61214440937646,200km\" #ksa\n",
        "c.Pandas= True \n",
        "c.Store_csv = True\n",
        "c.Count=True\n",
        "#c.Hide_output = True\n",
        "c.Output = \"trans-3v3.csv\"\n",
        "twint.run.Search(c)"
      ],
      "execution_count": null,
      "outputs": []
    },
    {
      "cell_type": "code",
      "metadata": {
        "id": "t_fVzHBuiDNo"
      },
      "source": [
        "c.Search=\"الفيتنامي,جرعة,المتحور\"\n",
        "c.Custom_query=\"الفيتنامي,جرعة,المتحور\"\n",
        "c.Lang=\"ar\"\n",
        "c.Since=\"2021-06-04\"\n",
        "c.Until=\"2021-06-18\"\n",
        "c.Geo=\"23.571861501954036, 45.61214440937646,200km\" #ksa\n",
        "c.Pandas= True \n",
        "c.Store_csv = True\n",
        "c.Count=True\n",
        "#c.Hide_output = True\n",
        "c.Output = \"trans-3v4.csv\"\n",
        "twint.run.Search(c)"
      ],
      "execution_count": null,
      "outputs": []
    },
    {
      "cell_type": "code",
      "metadata": {
        "id": "lu4jZCmdrMQE"
      },
      "source": [
        "c.Search=\"لقاح\"\n",
        "c.Lang=\"ar\"\n",
        "c.Since=\"2021-06-04\"\n",
        "c.Until=\"2021-06-18\"\n",
        "c.Geo=\"23.571861501954036, 45.61214440937646,200km\" #ksa\n",
        "c.Pandas= True \n",
        "c.Store_csv = True\n",
        "c.Count=True\n",
        "c.Hide_output = True\n",
        "c.Output = \"trans-3v5.csv\"\n",
        "twint.run.Search(c)"
      ],
      "execution_count": null,
      "outputs": []
    }
  ]
}
